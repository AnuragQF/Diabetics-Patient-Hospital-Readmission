{
 "cells": [
  {
   "cell_type": "markdown",
   "metadata": {},
   "source": [
    "## Data Set Description\n",
    "* **Encounter ID**\tUnique identifier of an encounter\n",
    "* **Patient number**\tUnique identifier of a patient\n",
    "* **Race**\tValues: Caucasian, Asian, African American, Hispanic, and other\n",
    "* **Gender**\tValues: male, female, and unknown/invalid\n",
    "* **Age**\tGrouped in 10-year intervals: 0, 10), 10, 20), …, 90, 100)\n",
    "* **Weight**\tWeight in pounds\n",
    "* **Admission type**\tInteger identifier corresponding to 9 distinct values, for example, emergency, urgent, elective, newborn, and not available\n",
    "* **Discharge disposition**\tInteger identifier corresponding to 29 distinct values, for example, discharged to home, expired, and not available\n",
    "* **Admission source**\tInteger identifier corresponding to 21 distinct values, for example, physician referral, emergency room, and transfer from a hospital\n",
    "* **Time in hospital**\tInteger number of days between admission and discharge\n",
    "* **Payer code**\tInteger identifier corresponding to 23 distinct values, for example, Blue Cross/Blue Shield, Medicare, and self-pay Medical\n",
    "* **Medical specialty**\tInteger identifier of a specialty of the admitting physician, corresponding to 84 distinct values, for example, cardiology, internal medicine, family/general practice, and surgeon\n",
    "* **Number of lab procedures**\tNumber of lab tests performed during the encounter\n",
    "* **Number of procedures** Numeric\tNumber of procedures (other than lab tests) performed during the encounter\n",
    "* **Number of medications**\tNumber of distinct generic names administered during the encounter\n",
    "* **Number of outpatient visits** Number of outpatient visits of the patient in the year preceding the encounter\n",
    "* **Number of emergency visits**\tNumber of emergency visits of the patient in the year preceding the encounter\n",
    "* **Number of inpatient visits**\tNumber of inpatient visits of the patient in the year preceding the encounter\n",
    "* **Diagnosis 1**\tThe primary diagnosis (coded as first three digits of ICD9); 848 distinct values\n",
    "* **Diagnosis 2**\tSecondary diagnosis (coded as first three digits of ICD9); 923 distinct values\n",
    "* **Diagnosis 3** Additional secondary diagnosis (coded as first three digits of ICD9); 954 distinct values\n",
    "* **Number of diagnoses**\tNumber of diagnoses entered to the system 0%\n",
    "* **Glucose serum test result**\tIndicates the range of the result or if the test was not taken. Values: “>200,” “>300,” “normal,” and “none” if not measured\n",
    "* **A1c test result**\tIndicates the range of the result or if the test was not taken. Values: “>8” if the result was greater than 8%, “>7” if the result was greater than 7% but less than 8%, “normal” if the result was less than 7%, and “none” if not measured.\n",
    "* **Change of medications**\tIndicates if there was a change in diabetic medications (either dosage or generic name). Values: “change” and “no change”\n",
    "* **Diabetes medications**\tIndicates if there was any diabetic medication prescribed. Values: “yes” and “no”\n",
    "* 24 features for medications\tFor the generic names: **metformin, repaglinide, nateglinide, chlorpropamide, glimepiride, acetohexamide, glipizide, glyburide, tolbutamide, pioglitazone, rosiglitazone, acarbose, miglitol, troglitazone, tolazamide, examide, sitagliptin, insulin, glyburide-metformin, glipizide-metformin, glimepiride- pioglitazone, metformin-rosiglitazone, and metformin- pioglitazone**, the feature indicates whether the drug was prescribed or there was a change in the dosage. Values: “up” if the dosage was increased during the encounter, “down” if the dosage was decreased, “steady” if the dosage did not change, and “no” if the drug was not prescribed\n",
    "* **Readmitted**\tDays to inpatient readmission. Values: “<30” if the patient was readmitted in less than 30 days, “>30” if the patient was readmitted in more than 30 days, and “No” for no record of readmission"
   ]
  },
  {
   "cell_type": "code",
   "execution_count": 754,
   "metadata": {},
   "outputs": [],
   "source": [
    "# importing necessasry libraries\n",
    "import numpy as np\n",
    "import pandas as pd\n",
    "# for plotting\n",
    "import seaborn as sns\n",
    "import matplotlib.pyplot as plt\n",
    "from warnings import filterwarnings\n",
    "filterwarnings('ignore')\n",
    "# Scaling\n",
    "from sklearn.preprocessing import MinMaxScaler\n",
    "import scikitplot as skplt\n",
    "# importing sklearn Models\n",
    "from sklearn.linear_model import LogisticRegression\n",
    "from sklearn.tree import DecisionTreeClassifier\n",
    "from sklearn.ensemble import RandomForestClassifier\n",
    "from sklearn.naive_bayes import GaussianNB\n",
    "from xgboost import XGBClassifier\n",
    "#Evalution Metrix\n",
    "from sklearn.model_selection import cross_validate\n",
    "from sklearn.metrics import precision_score, recall_score, f1_score, accuracy_score,classification_report, roc_curve,confusion_matrix"
   ]
  },
  {
   "cell_type": "code",
   "execution_count": 755,
   "metadata": {},
   "outputs": [
    {
     "data": {
      "text/html": [
       "<div>\n",
       "<style scoped>\n",
       "    .dataframe tbody tr th:only-of-type {\n",
       "        vertical-align: middle;\n",
       "    }\n",
       "\n",
       "    .dataframe tbody tr th {\n",
       "        vertical-align: top;\n",
       "    }\n",
       "\n",
       "    .dataframe thead th {\n",
       "        text-align: right;\n",
       "    }\n",
       "</style>\n",
       "<table border=\"1\" class=\"dataframe\">\n",
       "  <thead>\n",
       "    <tr style=\"text-align: right;\">\n",
       "      <th></th>\n",
       "      <th>encounter_id</th>\n",
       "      <th>patient_nbr</th>\n",
       "      <th>race</th>\n",
       "      <th>gender</th>\n",
       "      <th>age</th>\n",
       "      <th>weight</th>\n",
       "      <th>admission_type_id</th>\n",
       "      <th>discharge_disposition_id</th>\n",
       "      <th>admission_source_id</th>\n",
       "      <th>time_in_hospital</th>\n",
       "      <th>payer_code</th>\n",
       "      <th>medical_specialty</th>\n",
       "      <th>num_lab_procedures</th>\n",
       "      <th>num_procedures</th>\n",
       "      <th>num_medications</th>\n",
       "      <th>number_outpatient</th>\n",
       "      <th>number_emergency</th>\n",
       "      <th>number_inpatient</th>\n",
       "      <th>diag_1</th>\n",
       "      <th>diag_2</th>\n",
       "      <th>diag_3</th>\n",
       "      <th>number_diagnoses</th>\n",
       "      <th>max_glu_serum</th>\n",
       "      <th>A1Cresult</th>\n",
       "      <th>metformin</th>\n",
       "      <th>repaglinide</th>\n",
       "      <th>nateglinide</th>\n",
       "      <th>chlorpropamide</th>\n",
       "      <th>glimepiride</th>\n",
       "      <th>acetohexamide</th>\n",
       "      <th>glipizide</th>\n",
       "      <th>glyburide</th>\n",
       "      <th>tolbutamide</th>\n",
       "      <th>pioglitazone</th>\n",
       "      <th>rosiglitazone</th>\n",
       "      <th>acarbose</th>\n",
       "      <th>miglitol</th>\n",
       "      <th>troglitazone</th>\n",
       "      <th>tolazamide</th>\n",
       "      <th>examide</th>\n",
       "      <th>citoglipton</th>\n",
       "      <th>insulin</th>\n",
       "      <th>glyburide-metformin</th>\n",
       "      <th>glipizide-metformin</th>\n",
       "      <th>glimepiride-pioglitazone</th>\n",
       "      <th>metformin-rosiglitazone</th>\n",
       "      <th>metformin-pioglitazone</th>\n",
       "      <th>change</th>\n",
       "      <th>diabetesMed</th>\n",
       "      <th>readmitted</th>\n",
       "    </tr>\n",
       "  </thead>\n",
       "  <tbody>\n",
       "    <tr>\n",
       "      <td>0</td>\n",
       "      <td>2278392</td>\n",
       "      <td>8222157</td>\n",
       "      <td>Caucasian</td>\n",
       "      <td>Female</td>\n",
       "      <td>[0-10)</td>\n",
       "      <td>?</td>\n",
       "      <td>6</td>\n",
       "      <td>25</td>\n",
       "      <td>1</td>\n",
       "      <td>1</td>\n",
       "      <td>?</td>\n",
       "      <td>Pediatrics-Endocrinology</td>\n",
       "      <td>41</td>\n",
       "      <td>0</td>\n",
       "      <td>1</td>\n",
       "      <td>0</td>\n",
       "      <td>0</td>\n",
       "      <td>0</td>\n",
       "      <td>250.83</td>\n",
       "      <td>?</td>\n",
       "      <td>?</td>\n",
       "      <td>1</td>\n",
       "      <td>None</td>\n",
       "      <td>None</td>\n",
       "      <td>No</td>\n",
       "      <td>No</td>\n",
       "      <td>No</td>\n",
       "      <td>No</td>\n",
       "      <td>No</td>\n",
       "      <td>No</td>\n",
       "      <td>No</td>\n",
       "      <td>No</td>\n",
       "      <td>No</td>\n",
       "      <td>No</td>\n",
       "      <td>No</td>\n",
       "      <td>No</td>\n",
       "      <td>No</td>\n",
       "      <td>No</td>\n",
       "      <td>No</td>\n",
       "      <td>No</td>\n",
       "      <td>No</td>\n",
       "      <td>No</td>\n",
       "      <td>No</td>\n",
       "      <td>No</td>\n",
       "      <td>No</td>\n",
       "      <td>No</td>\n",
       "      <td>No</td>\n",
       "      <td>No</td>\n",
       "      <td>No</td>\n",
       "      <td>NO</td>\n",
       "    </tr>\n",
       "    <tr>\n",
       "      <td>1</td>\n",
       "      <td>149190</td>\n",
       "      <td>55629189</td>\n",
       "      <td>Caucasian</td>\n",
       "      <td>Female</td>\n",
       "      <td>[10-20)</td>\n",
       "      <td>?</td>\n",
       "      <td>1</td>\n",
       "      <td>1</td>\n",
       "      <td>7</td>\n",
       "      <td>3</td>\n",
       "      <td>?</td>\n",
       "      <td>?</td>\n",
       "      <td>59</td>\n",
       "      <td>0</td>\n",
       "      <td>18</td>\n",
       "      <td>0</td>\n",
       "      <td>0</td>\n",
       "      <td>0</td>\n",
       "      <td>276</td>\n",
       "      <td>250.01</td>\n",
       "      <td>255</td>\n",
       "      <td>9</td>\n",
       "      <td>None</td>\n",
       "      <td>None</td>\n",
       "      <td>No</td>\n",
       "      <td>No</td>\n",
       "      <td>No</td>\n",
       "      <td>No</td>\n",
       "      <td>No</td>\n",
       "      <td>No</td>\n",
       "      <td>No</td>\n",
       "      <td>No</td>\n",
       "      <td>No</td>\n",
       "      <td>No</td>\n",
       "      <td>No</td>\n",
       "      <td>No</td>\n",
       "      <td>No</td>\n",
       "      <td>No</td>\n",
       "      <td>No</td>\n",
       "      <td>No</td>\n",
       "      <td>No</td>\n",
       "      <td>Up</td>\n",
       "      <td>No</td>\n",
       "      <td>No</td>\n",
       "      <td>No</td>\n",
       "      <td>No</td>\n",
       "      <td>No</td>\n",
       "      <td>Ch</td>\n",
       "      <td>Yes</td>\n",
       "      <td>&gt;30</td>\n",
       "    </tr>\n",
       "    <tr>\n",
       "      <td>2</td>\n",
       "      <td>64410</td>\n",
       "      <td>86047875</td>\n",
       "      <td>AfricanAmerican</td>\n",
       "      <td>Female</td>\n",
       "      <td>[20-30)</td>\n",
       "      <td>?</td>\n",
       "      <td>1</td>\n",
       "      <td>1</td>\n",
       "      <td>7</td>\n",
       "      <td>2</td>\n",
       "      <td>?</td>\n",
       "      <td>?</td>\n",
       "      <td>11</td>\n",
       "      <td>5</td>\n",
       "      <td>13</td>\n",
       "      <td>2</td>\n",
       "      <td>0</td>\n",
       "      <td>1</td>\n",
       "      <td>648</td>\n",
       "      <td>250</td>\n",
       "      <td>V27</td>\n",
       "      <td>6</td>\n",
       "      <td>None</td>\n",
       "      <td>None</td>\n",
       "      <td>No</td>\n",
       "      <td>No</td>\n",
       "      <td>No</td>\n",
       "      <td>No</td>\n",
       "      <td>No</td>\n",
       "      <td>No</td>\n",
       "      <td>Steady</td>\n",
       "      <td>No</td>\n",
       "      <td>No</td>\n",
       "      <td>No</td>\n",
       "      <td>No</td>\n",
       "      <td>No</td>\n",
       "      <td>No</td>\n",
       "      <td>No</td>\n",
       "      <td>No</td>\n",
       "      <td>No</td>\n",
       "      <td>No</td>\n",
       "      <td>No</td>\n",
       "      <td>No</td>\n",
       "      <td>No</td>\n",
       "      <td>No</td>\n",
       "      <td>No</td>\n",
       "      <td>No</td>\n",
       "      <td>No</td>\n",
       "      <td>Yes</td>\n",
       "      <td>NO</td>\n",
       "    </tr>\n",
       "    <tr>\n",
       "      <td>3</td>\n",
       "      <td>500364</td>\n",
       "      <td>82442376</td>\n",
       "      <td>Caucasian</td>\n",
       "      <td>Male</td>\n",
       "      <td>[30-40)</td>\n",
       "      <td>?</td>\n",
       "      <td>1</td>\n",
       "      <td>1</td>\n",
       "      <td>7</td>\n",
       "      <td>2</td>\n",
       "      <td>?</td>\n",
       "      <td>?</td>\n",
       "      <td>44</td>\n",
       "      <td>1</td>\n",
       "      <td>16</td>\n",
       "      <td>0</td>\n",
       "      <td>0</td>\n",
       "      <td>0</td>\n",
       "      <td>8</td>\n",
       "      <td>250.43</td>\n",
       "      <td>403</td>\n",
       "      <td>7</td>\n",
       "      <td>None</td>\n",
       "      <td>None</td>\n",
       "      <td>No</td>\n",
       "      <td>No</td>\n",
       "      <td>No</td>\n",
       "      <td>No</td>\n",
       "      <td>No</td>\n",
       "      <td>No</td>\n",
       "      <td>No</td>\n",
       "      <td>No</td>\n",
       "      <td>No</td>\n",
       "      <td>No</td>\n",
       "      <td>No</td>\n",
       "      <td>No</td>\n",
       "      <td>No</td>\n",
       "      <td>No</td>\n",
       "      <td>No</td>\n",
       "      <td>No</td>\n",
       "      <td>No</td>\n",
       "      <td>Up</td>\n",
       "      <td>No</td>\n",
       "      <td>No</td>\n",
       "      <td>No</td>\n",
       "      <td>No</td>\n",
       "      <td>No</td>\n",
       "      <td>Ch</td>\n",
       "      <td>Yes</td>\n",
       "      <td>NO</td>\n",
       "    </tr>\n",
       "    <tr>\n",
       "      <td>4</td>\n",
       "      <td>16680</td>\n",
       "      <td>42519267</td>\n",
       "      <td>Caucasian</td>\n",
       "      <td>Male</td>\n",
       "      <td>[40-50)</td>\n",
       "      <td>?</td>\n",
       "      <td>1</td>\n",
       "      <td>1</td>\n",
       "      <td>7</td>\n",
       "      <td>1</td>\n",
       "      <td>?</td>\n",
       "      <td>?</td>\n",
       "      <td>51</td>\n",
       "      <td>0</td>\n",
       "      <td>8</td>\n",
       "      <td>0</td>\n",
       "      <td>0</td>\n",
       "      <td>0</td>\n",
       "      <td>197</td>\n",
       "      <td>157</td>\n",
       "      <td>250</td>\n",
       "      <td>5</td>\n",
       "      <td>None</td>\n",
       "      <td>None</td>\n",
       "      <td>No</td>\n",
       "      <td>No</td>\n",
       "      <td>No</td>\n",
       "      <td>No</td>\n",
       "      <td>No</td>\n",
       "      <td>No</td>\n",
       "      <td>Steady</td>\n",
       "      <td>No</td>\n",
       "      <td>No</td>\n",
       "      <td>No</td>\n",
       "      <td>No</td>\n",
       "      <td>No</td>\n",
       "      <td>No</td>\n",
       "      <td>No</td>\n",
       "      <td>No</td>\n",
       "      <td>No</td>\n",
       "      <td>No</td>\n",
       "      <td>Steady</td>\n",
       "      <td>No</td>\n",
       "      <td>No</td>\n",
       "      <td>No</td>\n",
       "      <td>No</td>\n",
       "      <td>No</td>\n",
       "      <td>Ch</td>\n",
       "      <td>Yes</td>\n",
       "      <td>NO</td>\n",
       "    </tr>\n",
       "  </tbody>\n",
       "</table>\n",
       "</div>"
      ],
      "text/plain": [
       "   encounter_id  patient_nbr             race  gender      age weight  \\\n",
       "0       2278392      8222157        Caucasian  Female   [0-10)      ?   \n",
       "1        149190     55629189        Caucasian  Female  [10-20)      ?   \n",
       "2         64410     86047875  AfricanAmerican  Female  [20-30)      ?   \n",
       "3        500364     82442376        Caucasian    Male  [30-40)      ?   \n",
       "4         16680     42519267        Caucasian    Male  [40-50)      ?   \n",
       "\n",
       "   admission_type_id  discharge_disposition_id  admission_source_id  \\\n",
       "0                  6                        25                    1   \n",
       "1                  1                         1                    7   \n",
       "2                  1                         1                    7   \n",
       "3                  1                         1                    7   \n",
       "4                  1                         1                    7   \n",
       "\n",
       "   time_in_hospital payer_code         medical_specialty  num_lab_procedures  \\\n",
       "0                 1          ?  Pediatrics-Endocrinology                  41   \n",
       "1                 3          ?                         ?                  59   \n",
       "2                 2          ?                         ?                  11   \n",
       "3                 2          ?                         ?                  44   \n",
       "4                 1          ?                         ?                  51   \n",
       "\n",
       "   num_procedures  num_medications  number_outpatient  number_emergency  \\\n",
       "0               0                1                  0                 0   \n",
       "1               0               18                  0                 0   \n",
       "2               5               13                  2                 0   \n",
       "3               1               16                  0                 0   \n",
       "4               0                8                  0                 0   \n",
       "\n",
       "   number_inpatient  diag_1  diag_2 diag_3  number_diagnoses max_glu_serum  \\\n",
       "0                 0  250.83       ?      ?                 1          None   \n",
       "1                 0     276  250.01    255                 9          None   \n",
       "2                 1     648     250    V27                 6          None   \n",
       "3                 0       8  250.43    403                 7          None   \n",
       "4                 0     197     157    250                 5          None   \n",
       "\n",
       "  A1Cresult metformin repaglinide nateglinide chlorpropamide glimepiride  \\\n",
       "0      None        No          No          No             No          No   \n",
       "1      None        No          No          No             No          No   \n",
       "2      None        No          No          No             No          No   \n",
       "3      None        No          No          No             No          No   \n",
       "4      None        No          No          No             No          No   \n",
       "\n",
       "  acetohexamide glipizide glyburide tolbutamide pioglitazone rosiglitazone  \\\n",
       "0            No        No        No          No           No            No   \n",
       "1            No        No        No          No           No            No   \n",
       "2            No    Steady        No          No           No            No   \n",
       "3            No        No        No          No           No            No   \n",
       "4            No    Steady        No          No           No            No   \n",
       "\n",
       "  acarbose miglitol troglitazone tolazamide examide citoglipton insulin  \\\n",
       "0       No       No           No         No      No          No      No   \n",
       "1       No       No           No         No      No          No      Up   \n",
       "2       No       No           No         No      No          No      No   \n",
       "3       No       No           No         No      No          No      Up   \n",
       "4       No       No           No         No      No          No  Steady   \n",
       "\n",
       "  glyburide-metformin glipizide-metformin glimepiride-pioglitazone  \\\n",
       "0                  No                  No                       No   \n",
       "1                  No                  No                       No   \n",
       "2                  No                  No                       No   \n",
       "3                  No                  No                       No   \n",
       "4                  No                  No                       No   \n",
       "\n",
       "  metformin-rosiglitazone metformin-pioglitazone change diabetesMed readmitted  \n",
       "0                      No                     No     No          No         NO  \n",
       "1                      No                     No     Ch         Yes        >30  \n",
       "2                      No                     No     No         Yes         NO  \n",
       "3                      No                     No     Ch         Yes         NO  \n",
       "4                      No                     No     Ch         Yes         NO  "
      ]
     },
     "execution_count": 755,
     "metadata": {},
     "output_type": "execute_result"
    }
   ],
   "source": [
    "df = pd.read_csv(\"C:/Users/91899/Desktop/Project 2/diabetic_data.csv\")\n",
    "pd.set_option('display.max_columns', None)\n",
    "df.head()"
   ]
  },
  {
   "cell_type": "code",
   "execution_count": 756,
   "metadata": {},
   "outputs": [
    {
     "data": {
      "text/plain": [
       "Index(['encounter_id', 'patient_nbr', 'admission_type_id',\n",
       "       'discharge_disposition_id', 'admission_source_id', 'time_in_hospital',\n",
       "       'num_lab_procedures', 'num_procedures', 'num_medications',\n",
       "       'number_outpatient', 'number_emergency', 'number_inpatient',\n",
       "       'number_diagnoses'],\n",
       "      dtype='object')"
      ]
     },
     "execution_count": 756,
     "metadata": {},
     "output_type": "execute_result"
    }
   ],
   "source": [
    "# These are the numerical data type features\n",
    "df_int = df.select_dtypes((np.number))\n",
    "df_int.columns"
   ]
  },
  {
   "cell_type": "code",
   "execution_count": 757,
   "metadata": {},
   "outputs": [
    {
     "data": {
      "text/plain": [
       "Index(['race', 'gender', 'age', 'weight', 'payer_code', 'medical_specialty',\n",
       "       'diag_1', 'diag_2', 'diag_3', 'max_glu_serum', 'A1Cresult', 'metformin',\n",
       "       'repaglinide', 'nateglinide', 'chlorpropamide', 'glimepiride',\n",
       "       'acetohexamide', 'glipizide', 'glyburide', 'tolbutamide',\n",
       "       'pioglitazone', 'rosiglitazone', 'acarbose', 'miglitol', 'troglitazone',\n",
       "       'tolazamide', 'examide', 'citoglipton', 'insulin',\n",
       "       'glyburide-metformin', 'glipizide-metformin',\n",
       "       'glimepiride-pioglitazone', 'metformin-rosiglitazone',\n",
       "       'metformin-pioglitazone', 'change', 'diabetesMed', 'readmitted'],\n",
       "      dtype='object')"
      ]
     },
     "execution_count": 757,
     "metadata": {},
     "output_type": "execute_result"
    }
   ],
   "source": [
    "df_cat = df.select_dtypes((np.object))\n",
    "df_cat.columns"
   ]
  },
  {
   "cell_type": "markdown",
   "metadata": {},
   "source": [
    "### Missing Values Treatment"
   ]
  },
  {
   "cell_type": "code",
   "execution_count": 758,
   "metadata": {},
   "outputs": [],
   "source": [
    "df = df.replace(\"?\", np.nan)"
   ]
  },
  {
   "cell_type": "code",
   "execution_count": 759,
   "metadata": {},
   "outputs": [
    {
     "data": {
      "text/html": [
       "<div>\n",
       "<style scoped>\n",
       "    .dataframe tbody tr th:only-of-type {\n",
       "        vertical-align: middle;\n",
       "    }\n",
       "\n",
       "    .dataframe tbody tr th {\n",
       "        vertical-align: top;\n",
       "    }\n",
       "\n",
       "    .dataframe thead th {\n",
       "        text-align: right;\n",
       "    }\n",
       "</style>\n",
       "<table border=\"1\" class=\"dataframe\">\n",
       "  <thead>\n",
       "    <tr style=\"text-align: right;\">\n",
       "      <th></th>\n",
       "      <th>Nan Values</th>\n",
       "      <th>Percentage Missing Values</th>\n",
       "    </tr>\n",
       "  </thead>\n",
       "  <tbody>\n",
       "    <tr>\n",
       "      <td>weight</td>\n",
       "      <td>98569</td>\n",
       "      <td>96.858479</td>\n",
       "    </tr>\n",
       "    <tr>\n",
       "      <td>medical_specialty</td>\n",
       "      <td>49949</td>\n",
       "      <td>49.082208</td>\n",
       "    </tr>\n",
       "    <tr>\n",
       "      <td>payer_code</td>\n",
       "      <td>40256</td>\n",
       "      <td>39.557416</td>\n",
       "    </tr>\n",
       "    <tr>\n",
       "      <td>race</td>\n",
       "      <td>2273</td>\n",
       "      <td>2.233555</td>\n",
       "    </tr>\n",
       "    <tr>\n",
       "      <td>diag_3</td>\n",
       "      <td>1423</td>\n",
       "      <td>1.398306</td>\n",
       "    </tr>\n",
       "    <tr>\n",
       "      <td>diag_2</td>\n",
       "      <td>358</td>\n",
       "      <td>0.351787</td>\n",
       "    </tr>\n",
       "    <tr>\n",
       "      <td>diag_1</td>\n",
       "      <td>21</td>\n",
       "      <td>0.020636</td>\n",
       "    </tr>\n",
       "  </tbody>\n",
       "</table>\n",
       "</div>"
      ],
      "text/plain": [
       "                   Nan Values  Percentage Missing Values\n",
       "weight                  98569                  96.858479\n",
       "medical_specialty       49949                  49.082208\n",
       "payer_code              40256                  39.557416\n",
       "race                     2273                   2.233555\n",
       "diag_3                   1423                   1.398306\n",
       "diag_2                    358                   0.351787\n",
       "diag_1                     21                   0.020636"
      ]
     },
     "execution_count": 759,
     "metadata": {},
     "output_type": "execute_result"
    }
   ],
   "source": [
    "nan_values = df.isna().sum()\n",
    "percent_missing_values = (df.isna().sum()/df.shape[0]) * 100\n",
    "total = pd.concat([nan_values, percent_missing_values], axis = 1, keys = ['Nan Values', 'Percentage Missing Values']).sort_values(by = 'Nan Values',ascending = False)\n",
    "total.head(7)"
   ]
  },
  {
   "cell_type": "code",
   "execution_count": 760,
   "metadata": {},
   "outputs": [],
   "source": [
    "df = df.drop(df[df[\"diag_1\"].isna() == True].index, axis = 0)\n",
    "df = df.drop(df[df[\"diag_2\"].isna() == True].index, axis = 0)\n",
    "df = df.drop(df[df[\"diag_3\"].isna() == True].index, axis = 0)"
   ]
  },
  {
   "cell_type": "code",
   "execution_count": 761,
   "metadata": {},
   "outputs": [
    {
     "data": {
      "text/plain": [
       "(100244, 50)"
      ]
     },
     "execution_count": 761,
     "metadata": {},
     "output_type": "execute_result"
    }
   ],
   "source": [
    "df.shape"
   ]
  },
  {
   "cell_type": "code",
   "execution_count": 762,
   "metadata": {},
   "outputs": [],
   "source": [
    "df[\"race\"] = df[\"race\"].fillna(\"Caucasian\")"
   ]
  },
  {
   "cell_type": "code",
   "execution_count": 763,
   "metadata": {},
   "outputs": [],
   "source": [
    "df = df.drop([\"encounter_id\", \"weight\", \"payer_code\", 'medical_specialty'], axis = 1, inplace = False)"
   ]
  },
  {
   "cell_type": "code",
   "execution_count": 764,
   "metadata": {},
   "outputs": [
    {
     "data": {
      "text/html": [
       "<div>\n",
       "<style scoped>\n",
       "    .dataframe tbody tr th:only-of-type {\n",
       "        vertical-align: middle;\n",
       "    }\n",
       "\n",
       "    .dataframe tbody tr th {\n",
       "        vertical-align: top;\n",
       "    }\n",
       "\n",
       "    .dataframe thead th {\n",
       "        text-align: right;\n",
       "    }\n",
       "</style>\n",
       "<table border=\"1\" class=\"dataframe\">\n",
       "  <thead>\n",
       "    <tr style=\"text-align: right;\">\n",
       "      <th></th>\n",
       "      <th>Nan Values</th>\n",
       "      <th>Percentage Missing Values</th>\n",
       "    </tr>\n",
       "  </thead>\n",
       "  <tbody>\n",
       "    <tr>\n",
       "      <td>patient_nbr</td>\n",
       "      <td>0</td>\n",
       "      <td>0.0</td>\n",
       "    </tr>\n",
       "    <tr>\n",
       "      <td>tolazamide</td>\n",
       "      <td>0</td>\n",
       "      <td>0.0</td>\n",
       "    </tr>\n",
       "    <tr>\n",
       "      <td>acetohexamide</td>\n",
       "      <td>0</td>\n",
       "      <td>0.0</td>\n",
       "    </tr>\n",
       "    <tr>\n",
       "      <td>glipizide</td>\n",
       "      <td>0</td>\n",
       "      <td>0.0</td>\n",
       "    </tr>\n",
       "    <tr>\n",
       "      <td>glyburide</td>\n",
       "      <td>0</td>\n",
       "      <td>0.0</td>\n",
       "    </tr>\n",
       "  </tbody>\n",
       "</table>\n",
       "</div>"
      ],
      "text/plain": [
       "               Nan Values  Percentage Missing Values\n",
       "patient_nbr             0                        0.0\n",
       "tolazamide              0                        0.0\n",
       "acetohexamide           0                        0.0\n",
       "glipizide               0                        0.0\n",
       "glyburide               0                        0.0"
      ]
     },
     "execution_count": 764,
     "metadata": {},
     "output_type": "execute_result"
    }
   ],
   "source": [
    "nan_values = df.isna().sum()\n",
    "percent_missing_values = (df.isna().sum()/df.shape[0]) * 100\n",
    "total = pd.concat([nan_values, percent_missing_values], axis = 1, keys = ['Nan Values', 'Percentage Missing Values']).sort_values(by = 'Nan Values',ascending = False)\n",
    "total.head()"
   ]
  },
  {
   "cell_type": "code",
   "execution_count": 765,
   "metadata": {},
   "outputs": [
    {
     "data": {
      "text/html": [
       "<div>\n",
       "<style scoped>\n",
       "    .dataframe tbody tr th:only-of-type {\n",
       "        vertical-align: middle;\n",
       "    }\n",
       "\n",
       "    .dataframe tbody tr th {\n",
       "        vertical-align: top;\n",
       "    }\n",
       "\n",
       "    .dataframe thead th {\n",
       "        text-align: right;\n",
       "    }\n",
       "</style>\n",
       "<table border=\"1\" class=\"dataframe\">\n",
       "  <thead>\n",
       "    <tr style=\"text-align: right;\">\n",
       "      <th></th>\n",
       "      <th>discharge_disposition_id</th>\n",
       "      <th>admission_source_id</th>\n",
       "      <th>admission_type_id</th>\n",
       "    </tr>\n",
       "  </thead>\n",
       "  <tbody>\n",
       "    <tr>\n",
       "      <td>1</td>\n",
       "      <td>Discharged to home</td>\n",
       "      <td>Physician Referral</td>\n",
       "      <td>Emergency</td>\n",
       "    </tr>\n",
       "    <tr>\n",
       "      <td>2</td>\n",
       "      <td>Discharged/transferred to another short term h...</td>\n",
       "      <td>Clinic Referral</td>\n",
       "      <td>Urgent</td>\n",
       "    </tr>\n",
       "    <tr>\n",
       "      <td>3</td>\n",
       "      <td>Discharged/transferred to SNF</td>\n",
       "      <td>HMO Referral</td>\n",
       "      <td>Elective</td>\n",
       "    </tr>\n",
       "    <tr>\n",
       "      <td>4</td>\n",
       "      <td>Discharged/transferred to ICF</td>\n",
       "      <td>Transfer from a hospital</td>\n",
       "      <td>Newborn</td>\n",
       "    </tr>\n",
       "    <tr>\n",
       "      <td>5</td>\n",
       "      <td>Discharged/transferred to another type of inpa...</td>\n",
       "      <td>Transfer from a Skilled Nursing Facility (SNF)</td>\n",
       "      <td>Not Available</td>\n",
       "    </tr>\n",
       "  </tbody>\n",
       "</table>\n",
       "</div>"
      ],
      "text/plain": [
       "                            discharge_disposition_id  \\\n",
       "1                                 Discharged to home   \n",
       "2  Discharged/transferred to another short term h...   \n",
       "3                      Discharged/transferred to SNF   \n",
       "4                      Discharged/transferred to ICF   \n",
       "5  Discharged/transferred to another type of inpa...   \n",
       "\n",
       "                               admission_source_id admission_type_id  \n",
       "1                               Physician Referral         Emergency  \n",
       "2                                  Clinic Referral            Urgent  \n",
       "3                                     HMO Referral          Elective  \n",
       "4                         Transfer from a hospital           Newborn  \n",
       "5   Transfer from a Skilled Nursing Facility (SNF)     Not Available  "
      ]
     },
     "execution_count": 765,
     "metadata": {},
     "output_type": "execute_result"
    }
   ],
   "source": [
    "id_map = pd.read_csv('C:/Users/91899/Desktop/Project 2/IDs_mapping.csv')[1:]\n",
    "id_map.head()"
   ]
  },
  {
   "cell_type": "code",
   "execution_count": 766,
   "metadata": {},
   "outputs": [],
   "source": [
    "df['admission_type_id'] = df['admission_type_id'].map(id_map['admission_type_id'])\n",
    "df['admission_source_id'] = df['admission_source_id'].map(id_map['admission_source_id'])\n",
    "df['discharge_disposition_id'] = df['discharge_disposition_id'].map(id_map['discharge_disposition_id'])"
   ]
  },
  {
   "cell_type": "markdown",
   "metadata": {},
   "source": [
    "### Dealing with Diagnosis Columns"
   ]
  },
  {
   "cell_type": "code",
   "execution_count": 767,
   "metadata": {},
   "outputs": [],
   "source": [
    "for i in df.loc[:,'diag_1':'diag_3']:\n",
    "    #df[i]=df[i].fillna(0)\n",
    "    df.loc[df[i].str[0].isin(['V','E']),i]=1111\n",
    "    df[i]=df[i].astype(float)"
   ]
  },
  {
   "cell_type": "code",
   "execution_count": 768,
   "metadata": {},
   "outputs": [],
   "source": [
    "df.loc[:, \"diag_1\" : \"diag_3\"] = df.loc[:, \"diag_1\" : \"diag_3\"].astype(float)"
   ]
  },
  {
   "cell_type": "code",
   "execution_count": 769,
   "metadata": {},
   "outputs": [],
   "source": [
    "def diagnosed(x):\n",
    "    if(x in range(390, 460) or x == 785):\n",
    "        return \"Circulatory\"\n",
    "    elif(x in range(460, 520) or x == 786):\n",
    "        return \"Respiratory\"\n",
    "    elif(x in range(520, 580) or x == 787):\n",
    "        return \"Digestive\"\n",
    "    elif(x in np.arange(250, 251, 0.01)):\n",
    "        return \"Diabetes\"\n",
    "    elif(x in range(800,1000)):\n",
    "        return \"Injury\"\n",
    "    elif(x in range(710,740)):\n",
    "        return \"Musculoskeletal\"\n",
    "    elif(x in range(580,630) or x == 788):\n",
    "        return \"Genitourinary\"\n",
    "    elif(x in range(140,240)):\n",
    "        return \"Neoplasms\"\n",
    "    else:\n",
    "        return \"Other Symptoms\"\n",
    "df[\"diag_3\"] = df[\"diag_3\"].apply(diagnosed)"
   ]
  },
  {
   "cell_type": "code",
   "execution_count": 770,
   "metadata": {},
   "outputs": [],
   "source": [
    "df[\"diag_1\"] = df[\"diag_1\"].apply(diagnosed)\n",
    "df[\"diag_2\"] = df[\"diag_2\"].apply(diagnosed)"
   ]
  },
  {
   "cell_type": "code",
   "execution_count": 771,
   "metadata": {},
   "outputs": [
    {
     "data": {
      "text/html": [
       "<div>\n",
       "<style scoped>\n",
       "    .dataframe tbody tr th:only-of-type {\n",
       "        vertical-align: middle;\n",
       "    }\n",
       "\n",
       "    .dataframe tbody tr th {\n",
       "        vertical-align: top;\n",
       "    }\n",
       "\n",
       "    .dataframe thead th {\n",
       "        text-align: right;\n",
       "    }\n",
       "</style>\n",
       "<table border=\"1\" class=\"dataframe\">\n",
       "  <thead>\n",
       "    <tr style=\"text-align: right;\">\n",
       "      <th></th>\n",
       "      <th>diag_1</th>\n",
       "      <th>diag_2</th>\n",
       "      <th>diag_3</th>\n",
       "    </tr>\n",
       "  </thead>\n",
       "  <tbody>\n",
       "    <tr>\n",
       "      <td>Circulatory</td>\n",
       "      <td>30307</td>\n",
       "      <td>31801</td>\n",
       "      <td>30280</td>\n",
       "    </tr>\n",
       "    <tr>\n",
       "      <td>Diabetes</td>\n",
       "      <td>225</td>\n",
       "      <td>7036</td>\n",
       "      <td>12447</td>\n",
       "    </tr>\n",
       "    <tr>\n",
       "      <td>Digestive</td>\n",
       "      <td>9363</td>\n",
       "      <td>4143</td>\n",
       "      <td>3929</td>\n",
       "    </tr>\n",
       "    <tr>\n",
       "      <td>Genitourinary</td>\n",
       "      <td>5074</td>\n",
       "      <td>8348</td>\n",
       "      <td>6675</td>\n",
       "    </tr>\n",
       "    <tr>\n",
       "      <td>Injury</td>\n",
       "      <td>6836</td>\n",
       "      <td>2404</td>\n",
       "      <td>1943</td>\n",
       "    </tr>\n",
       "    <tr>\n",
       "      <td>Musculoskeletal</td>\n",
       "      <td>4858</td>\n",
       "      <td>1760</td>\n",
       "      <td>1914</td>\n",
       "    </tr>\n",
       "    <tr>\n",
       "      <td>Neoplasms</td>\n",
       "      <td>3390</td>\n",
       "      <td>2542</td>\n",
       "      <td>1853</td>\n",
       "    </tr>\n",
       "    <tr>\n",
       "      <td>Other Symptoms</td>\n",
       "      <td>25886</td>\n",
       "      <td>31345</td>\n",
       "      <td>33850</td>\n",
       "    </tr>\n",
       "    <tr>\n",
       "      <td>Respiratory</td>\n",
       "      <td>14305</td>\n",
       "      <td>10865</td>\n",
       "      <td>7353</td>\n",
       "    </tr>\n",
       "  </tbody>\n",
       "</table>\n",
       "</div>"
      ],
      "text/plain": [
       "                 diag_1  diag_2  diag_3\n",
       "Circulatory       30307   31801   30280\n",
       "Diabetes            225    7036   12447\n",
       "Digestive          9363    4143    3929\n",
       "Genitourinary      5074    8348    6675\n",
       "Injury             6836    2404    1943\n",
       "Musculoskeletal    4858    1760    1914\n",
       "Neoplasms          3390    2542    1853\n",
       "Other Symptoms    25886   31345   33850\n",
       "Respiratory       14305   10865    7353"
      ]
     },
     "execution_count": 771,
     "metadata": {},
     "output_type": "execute_result"
    }
   ],
   "source": [
    "pd.concat([df['diag_1'].value_counts(), df['diag_2'].value_counts(sort=False), df['diag_3'].value_counts(sort=False)], axis = 1)"
   ]
  },
  {
   "cell_type": "code",
   "execution_count": 772,
   "metadata": {},
   "outputs": [],
   "source": [
    "df = df[df['gender'] != 'Unknown/Invalid']"
   ]
  },
  {
   "cell_type": "code",
   "execution_count": 773,
   "metadata": {},
   "outputs": [
    {
     "data": {
      "text/plain": [
       "Female    53922\n",
       "Male      46319\n",
       "Name: gender, dtype: int64"
      ]
     },
     "execution_count": 773,
     "metadata": {},
     "output_type": "execute_result"
    }
   ],
   "source": [
    "df[\"gender\"].value_counts()"
   ]
  },
  {
   "cell_type": "code",
   "execution_count": 774,
   "metadata": {},
   "outputs": [],
   "source": [
    "#Transfer\n",
    "df['admission_source_id'] = np.where(df['admission_source_id'].str.contains\n",
    "                                     ('Transfer'),'Transfer', df['admission_source_id'])\n",
    "#Referral\n",
    "df['admission_source_id'] = np.where(df['admission_source_id'].str.contains\n",
    "                                     ('Referral'),'Referral', df['admission_source_id'])\n",
    "#Emergency\n",
    "df['admission_source_id'] = np.where(df['admission_source_id'].str.contains\n",
    "                                     ('Emergency Room'),'Emergency Room', df['admission_source_id'])\n",
    "#Not Available\n",
    "df['admission_source_id'] = np.where(~df['admission_source_id'].str.contains\n",
    "                                     ('Emergency Room|Referral|Transfer'),'Others', df['admission_source_id'])"
   ]
  },
  {
   "cell_type": "code",
   "execution_count": 775,
   "metadata": {},
   "outputs": [],
   "source": [
    "#Transfer\n",
    "df['discharge_disposition_id'] = np.where(df['discharge_disposition_id'].str.contains\n",
    "                                          ('transferred'),'Transfer', df['discharge_disposition_id'])\n",
    "#Discharged\n",
    "df['discharge_disposition_id'] = np.where(df['discharge_disposition_id'].str.contains\n",
    "                                          ('Discharged'),'Discharged', df['discharge_disposition_id'])\n",
    "#Others\n",
    "df['discharge_disposition_id'] = np.where(~df['discharge_disposition_id'].str.contains\n",
    "                                          ('Transfer|Discharged'),'Others', df['discharge_disposition_id'])"
   ]
  },
  {
   "cell_type": "code",
   "execution_count": 776,
   "metadata": {},
   "outputs": [],
   "source": [
    "#Replacing Not Mapped, Not Available, Trauma Center & Newborn with 'Others'\n",
    "df['admission_type_id'] = np.where((df['admission_type_id'].str.contains\n",
    "                                    ('Not Mapped|Not Available|Trauma Center|Newborn')),'Others', df['admission_type_id'])"
   ]
  },
  {
   "cell_type": "code",
   "execution_count": 777,
   "metadata": {},
   "outputs": [
    {
     "data": {
      "text/plain": [
       "Emergency    53230\n",
       "Elective     18544\n",
       "Urgent       18203\n",
       "Others       10264\n",
       "Name: admission_type_id, dtype: int64"
      ]
     },
     "execution_count": 777,
     "metadata": {},
     "output_type": "execute_result"
    }
   ],
   "source": [
    "df['admission_type_id'].value_counts()"
   ]
  },
  {
   "cell_type": "code",
   "execution_count": 778,
   "metadata": {},
   "outputs": [
    {
     "data": {
      "text/plain": [
       "Discharged    59003\n",
       "Transfer      33587\n",
       "Others         7651\n",
       "Name: discharge_disposition_id, dtype: int64"
      ]
     },
     "execution_count": 778,
     "metadata": {},
     "output_type": "execute_result"
    }
   ],
   "source": [
    "df['discharge_disposition_id'].value_counts()"
   ]
  },
  {
   "cell_type": "code",
   "execution_count": 779,
   "metadata": {},
   "outputs": [
    {
     "data": {
      "text/plain": [
       "NO     53818\n",
       ">30    35173\n",
       "<30    11250\n",
       "Name: readmitted, dtype: int64"
      ]
     },
     "execution_count": 779,
     "metadata": {},
     "output_type": "execute_result"
    }
   ],
   "source": [
    "df['readmitted'].value_counts()"
   ]
  },
  {
   "cell_type": "markdown",
   "metadata": {},
   "source": [
    "### Feature Engineering"
   ]
  },
  {
   "cell_type": "code",
   "execution_count": 780,
   "metadata": {},
   "outputs": [],
   "source": [
    "# As the target column is multiclass and problem statement is to predict the readmission of patients within 30 days.\n",
    "# Lets convert target column to binary class.\n",
    "df['readmitted'] = df['readmitted'].replace({\"NO\": 0, \">30\": 1, \"<30\": 1})"
   ]
  },
  {
   "cell_type": "code",
   "execution_count": 781,
   "metadata": {},
   "outputs": [],
   "source": [
    "#Adding New Column No_of_Visit\n",
    "No_of_Visit = df['patient_nbr'].map(df.groupby('patient_nbr').count()['readmitted'])\n",
    "df.insert(2,'No_of_Visit',No_of_Visit)\n",
    "\n",
    "# Updating Time in Hospital based on Each Patient \n",
    "df['time_in_hospital'] = df['patient_nbr'].map(df.groupby('patient_nbr')['time_in_hospital'].median())\n",
    "\n",
    "# Updating No of Lab Procedures based on Each Patient \n",
    "df['num_lab_procedures'] = df['patient_nbr'].map(df.groupby('patient_nbr')['num_lab_procedures'].median())\n",
    "\n",
    "# Updating No of Procedures based on Each Patient \n",
    "df['num_procedures'] = df['patient_nbr'].map(df.groupby('patient_nbr')['num_procedures'].median())\n",
    "\n",
    "# Updating No of Medications based on Each Patient \n",
    "df['num_medications'] = df['patient_nbr'].map(df.groupby('patient_nbr')['num_medications'].median())\n",
    "\n",
    "# Updating No of OutPatients based on Each Patient \n",
    "df['number_outpatient'] = df['patient_nbr'].map(df.groupby('patient_nbr')['number_outpatient'].median())\n",
    "\n",
    "# Updating No of Emergency based on Each Patient \n",
    "df['number_emergency'] = df['patient_nbr'].map(df.groupby('patient_nbr')['number_emergency'].median())\n",
    "\n",
    "# Updating No of InPatients based on Each Patient \n",
    "df['number_inpatient'] = df['patient_nbr'].map(df.groupby('patient_nbr')['number_inpatient'].median())\n",
    "\n",
    "# Updating No of Diagnosis based on Each Patient \n",
    "df['number_diagnoses'] = df['patient_nbr'].map(df.groupby('patient_nbr')['number_diagnoses'].median())"
   ]
  },
  {
   "cell_type": "markdown",
   "metadata": {},
   "source": [
    "### Change"
   ]
  },
  {
   "cell_type": "code",
   "execution_count": 782,
   "metadata": {},
   "outputs": [],
   "source": [
    "#Replacing Ch & No with 1 & 0\n",
    "df['change'] = df['change'].replace({'Ch':1,'No':0})"
   ]
  },
  {
   "cell_type": "markdown",
   "metadata": {},
   "source": [
    "### Max Glu serum"
   ]
  },
  {
   "cell_type": "code",
   "execution_count": 783,
   "metadata": {},
   "outputs": [],
   "source": [
    "#Giving Weightage based on the Risk Level of the test\n",
    "df['max_glu_serum'] = df['max_glu_serum'].replace([\"None\",\"Norm\",\">200\", \">300\"],[0,1,2,3])\n",
    "\n",
    "# Updating Max Glu Serum based on Each Patient \n",
    "df['max_glu_serum'] = df['patient_nbr'].map(df.groupby('patient_nbr')['max_glu_serum'].median())"
   ]
  },
  {
   "cell_type": "markdown",
   "metadata": {},
   "source": [
    "### A1C Result"
   ]
  },
  {
   "cell_type": "code",
   "execution_count": 784,
   "metadata": {},
   "outputs": [],
   "source": [
    "#Giving Weightage based on the Risk Level of the test\n",
    "df['A1Cresult'] = df['A1Cresult'].replace([\"None\",\"Norm\",\">7\", \">8\"],[0,1,2,3])\n",
    "\n",
    "# Updating A1Cresult based on Each Patient \n",
    "df['A1Cresult'] = df['patient_nbr'].map(df.groupby('patient_nbr')['A1Cresult'].median())"
   ]
  },
  {
   "cell_type": "markdown",
   "metadata": {},
   "source": [
    "### Medical Terms having same Characteristics"
   ]
  },
  {
   "cell_type": "code",
   "execution_count": 785,
   "metadata": {},
   "outputs": [],
   "source": [
    "df.loc[:,'metformin':'metformin-pioglitazone'] = df.loc[:,'metformin':'metformin-pioglitazone'].replace(['No','Down','Steady','Up'],[0,1,2,3])"
   ]
  },
  {
   "cell_type": "code",
   "execution_count": 786,
   "metadata": {},
   "outputs": [],
   "source": [
    "#Medicine has Ordinal Classes, We are giving Weights Accordingly.\n",
    "for i in df.loc[:,'metformin':'metformin-pioglitazone']:\n",
    "    df[i] = df['patient_nbr'].map(df.groupby('patient_nbr')[i].median())"
   ]
  },
  {
   "cell_type": "markdown",
   "metadata": {},
   "source": [
    "### Dropping duplicates from the data"
   ]
  },
  {
   "cell_type": "code",
   "execution_count": 787,
   "metadata": {},
   "outputs": [],
   "source": [
    "# dropping ALL duplicate values\n",
    "df.drop_duplicates(subset =\"patient_nbr\", inplace = True)"
   ]
  },
  {
   "cell_type": "code",
   "execution_count": 788,
   "metadata": {},
   "outputs": [
    {
     "data": {
      "text/plain": [
       "0    42145\n",
       "1    28268\n",
       "Name: readmitted, dtype: int64"
      ]
     },
     "execution_count": 788,
     "metadata": {},
     "output_type": "execute_result"
    }
   ],
   "source": [
    "df['readmitted'].value_counts()"
   ]
  },
  {
   "cell_type": "markdown",
   "metadata": {},
   "source": [
    "### One hot Encoding"
   ]
  },
  {
   "cell_type": "code",
   "execution_count": 789,
   "metadata": {},
   "outputs": [],
   "source": [
    "# Categorical features which needs treatment\n",
    "df_cat = ['race', 'admission_type_id', 'discharge_disposition_id', 'admission_source_id', 'diag_1', 'diag_2', 'diag_3']"
   ]
  },
  {
   "cell_type": "code",
   "execution_count": 790,
   "metadata": {},
   "outputs": [],
   "source": [
    "# Treating categorical features by using one hot encoding technique i.e get_dummies method\n",
    "encoded_cat = pd.get_dummies(df.loc[:,df_cat], drop_first = False)"
   ]
  },
  {
   "cell_type": "code",
   "execution_count": 791,
   "metadata": {},
   "outputs": [],
   "source": [
    "# Dropping the categorical features\n",
    "df = df.drop(df.loc[:,df_cat], axis = 1)"
   ]
  },
  {
   "cell_type": "code",
   "execution_count": 792,
   "metadata": {},
   "outputs": [],
   "source": [
    "# Dealing with gender feature by replacing the value of Male by 0 and Female by 1.\n",
    "df['gender'] = df['gender'].replace(['Male', 'Female'], [0,1])"
   ]
  },
  {
   "cell_type": "code",
   "execution_count": 793,
   "metadata": {},
   "outputs": [],
   "source": [
    "# Dealing with age features\n",
    "df[\"age\"] = df[\"age\"].replace({\"[0-10)\" : 10, '[10-20)' : 20, '[20-30)': 30, '[30-40)': 40, '[40-50)': 50, '[50-60)': 60,\n",
    "       '[60-70)': 70, '[70-80)': 80, '[80-90)': 90, '[90-100)': 100})"
   ]
  },
  {
   "cell_type": "code",
   "execution_count": 794,
   "metadata": {},
   "outputs": [],
   "source": [
    "df['diabetesMed'] = df['diabetesMed'].replace({'Yes':1,'No':0})"
   ]
  },
  {
   "cell_type": "code",
   "execution_count": 795,
   "metadata": {},
   "outputs": [],
   "source": [
    "df1 = pd.concat([df, encoded_cat], axis = 1)"
   ]
  },
  {
   "cell_type": "code",
   "execution_count": 796,
   "metadata": {},
   "outputs": [],
   "source": [
    "df1 = df1.drop(\"patient_nbr\",axis = 1)"
   ]
  },
  {
   "cell_type": "code",
   "execution_count": 797,
   "metadata": {},
   "outputs": [],
   "source": [
    "df_num = ['age', 'time_in_hospital','num_lab_procedures', 'num_procedures', 'num_medications',\n",
    "          'number_outpatient', 'number_emergency', 'number_inpatient', 'number_diagnoses']\n",
    "df_int = df1.loc[:,df_num]"
   ]
  },
  {
   "cell_type": "code",
   "execution_count": 798,
   "metadata": {},
   "outputs": [
    {
     "data": {
      "image/png": "[encoded data removed]",
      "text/plain": [
       "<Figure size 1080x360 with 2 Axes>"
      ]
     },
     "metadata": {
      "needs_background": "light"
     },
     "output_type": "display_data"
    },
    {
     "data": {
      "image/png": "[encoded data removed]",
      "text/plain": [
       "<Figure size 1080x360 with 2 Axes>"
      ]
     },
     "metadata": {
      "needs_background": "light"
     },
     "output_type": "display_data"
    },
    {
     "data": {
      "image/png": "[encoded data removed]",
      "text/plain": [
       "<Figure size 1080x360 with 2 Axes>"
      ]
     },
     "metadata": {
      "needs_background": "light"
     },
     "output_type": "display_data"
    },
    {
     "data": {
      "image/png": "[encoded data removed]",
      "text/plain": [
       "<Figure size 1080x360 with 2 Axes>"
      ]
     },
     "metadata": {
      "needs_background": "light"
     },
     "output_type": "display_data"
    },
    {
     "data": {
      "image/png": "[encoded data removed]",
      "text/plain": [
       "<Figure size 1080x360 with 2 Axes>"
      ]
     },
     "metadata": {
      "needs_background": "light"
     },
     "output_type": "display_data"
    },
    {
     "data": {
      "image/png": "[encoded data removed]",
      "text/plain": [
       "<Figure size 1080x360 with 2 Axes>"
      ]
     },
     "metadata": {
      "needs_background": "light"
     },
     "output_type": "display_data"
    },
    {
     "data": {
      "image/png": "[encoded data removed]",
      "text/plain": [
       "<Figure size 1080x360 with 2 Axes>"
      ]
     },
     "metadata": {
      "needs_background": "light"
     },
     "output_type": "display_data"
    },
    {
     "data": {
      "image/png": "[encoded data removed]",
      "text/plain": [
       "<Figure size 1080x360 with 2 Axes>"
      ]
     },
     "metadata": {
      "needs_background": "light"
     },
     "output_type": "display_data"
    },
    {
     "data": {
      "image/png": "[encoded data removed]",
      "text/plain": [
       "<Figure size 1080x360 with 2 Axes>"
      ]
     },
     "metadata": {
      "needs_background": "light"
     },
     "output_type": "display_data"
    }
   ],
   "source": [
    "for plot in df_int:\n",
    "    plt.figure(figsize =(15,5))\n",
    "    plt.subplot(1,2,1)\n",
    "    sns.distplot(df_int[plot])\n",
    "    plt.subplot(1,2,2)\n",
    "    sns.boxplot(df_int[plot])\n",
    "    plt.show()"
   ]
  },
  {
   "cell_type": "code",
   "execution_count": 799,
   "metadata": {},
   "outputs": [],
   "source": [
    "# Dealing outliers of age column\n",
    "q1 = df1['age'].quantile(0.25)\n",
    "q3 = df1['age'].quantile(0.75)\n",
    "IQR = q3 - q1\n",
    "upper_limit = q3 + (1.5 * IQR)\n",
    "lower_limit = q1 - (1.5 * IQR)\n",
    "df1 = df1.drop(df1[df1['age']<lower_limit].index, axis = 0)"
   ]
  },
  {
   "cell_type": "code",
   "execution_count": 800,
   "metadata": {},
   "outputs": [],
   "source": [
    "# Dealing with Average time in hospital feature using log transformation\n",
    "df1['time_in_hospital'] = np.log(df1['time_in_hospital'])"
   ]
  },
  {
   "cell_type": "code",
   "execution_count": 801,
   "metadata": {},
   "outputs": [],
   "source": [
    "# Dealing with average number of lab procedures using Inter quantile range\n",
    "q1 = df1['num_lab_procedures'].quantile(0.25)\n",
    "q3 = df1['num_lab_procedures'].quantile(0.75)\n",
    "IQR = q3 - q1\n",
    "upper_limit = q3 + (1.7 * IQR)\n",
    "lower_limit = q1 - (1.5 * IQR)\n",
    "df1 = df1.drop(df1[df1['num_lab_procedures']>upper_limit].index, axis = 0)"
   ]
  },
  {
   "cell_type": "code",
   "execution_count": 802,
   "metadata": {},
   "outputs": [],
   "source": [
    "# Dealing with Average number of procedures feature using square root transformation\n",
    "df1['num_procedures'] = np.sqrt(df1['num_procedures'])"
   ]
  },
  {
   "cell_type": "code",
   "execution_count": 803,
   "metadata": {},
   "outputs": [],
   "source": [
    "# Dealing with average number of medication using Inter quantile range\n",
    "q1 = df1['num_medications'].quantile(0.25)\n",
    "q3 = df1['num_medications'].quantile(0.75)\n",
    "IQR = q3 - q1\n",
    "upper_limit = q3 + (3.5 * IQR)\n",
    "lower_limit = q1 - (1.5 * IQR)\n",
    "df1 = df1.drop(df1[df1['num_medications']>upper_limit].index, axis = 0)"
   ]
  },
  {
   "cell_type": "code",
   "execution_count": 804,
   "metadata": {},
   "outputs": [],
   "source": [
    "# Dealing with number of out patients feature.\n",
    "df1 = df1.drop(df1[df1['number_outpatient'] >= 15 ].index, axis = 0)"
   ]
  },
  {
   "cell_type": "code",
   "execution_count": 805,
   "metadata": {},
   "outputs": [],
   "source": [
    "# Dealing with number of emergency feature.\n",
    "df1 = df1.drop(df1[df1['number_emergency'] >= 11 ].index, axis = 0)"
   ]
  },
  {
   "cell_type": "code",
   "execution_count": 806,
   "metadata": {},
   "outputs": [],
   "source": [
    "# Dealing with number of inpatient feature using power transformer.\n",
    "from sklearn.preprocessing import PowerTransformer\n",
    "y = df1['number_inpatient']\n",
    "y = y.values.reshape(-1,1)\n",
    "# power transform the raw data\n",
    "power = PowerTransformer(method='yeo-johnson', standardize=True)\n",
    "df1['number_inpatient'] = power.fit_transform(y)"
   ]
  },
  {
   "cell_type": "code",
   "execution_count": 807,
   "metadata": {},
   "outputs": [],
   "source": [
    "# Dealing with number of diagnosis feature.\n",
    "df1 = df1.drop(df1[df1['number_diagnoses'] >= 14 ].index, axis = 0)"
   ]
  },
  {
   "cell_type": "code",
   "execution_count": 808,
   "metadata": {},
   "outputs": [
    {
     "data": {
      "image/png": "[encoded data removed]",
      "text/plain": [
       "<Figure size 1080x360 with 2 Axes>"
      ]
     },
     "metadata": {
      "needs_background": "light"
     },
     "output_type": "display_data"
    },
    {
     "data": {
      "image/png": "[encoded data removed]",
      "text/plain": [
       "<Figure size 1080x360 with 2 Axes>"
      ]
     },
     "metadata": {
      "needs_background": "light"
     },
     "output_type": "display_data"
    },
    {
     "data": {
      "image/png": "[encoded data removed]",
      "text/plain": [
       "<Figure size 1080x360 with 2 Axes>"
      ]
     },
     "metadata": {
      "needs_background": "light"
     },
     "output_type": "display_data"
    },
    {
     "data": {
      "image/png": "[encoded data removed]",
      "text/plain": [
       "<Figure size 1080x360 with 2 Axes>"
      ]
     },
     "metadata": {
      "needs_background": "light"
     },
     "output_type": "display_data"
    },
    {
     "data": {
      "image/png": "[encoded data removed]",
      "text/plain": [
       "<Figure size 1080x360 with 2 Axes>"
      ]
     },
     "metadata": {
      "needs_background": "light"
     },
     "output_type": "display_data"
    },
    {
     "data": {
      "image/png": "[encoded data removed]",
      "text/plain": [
       "<Figure size 1080x360 with 2 Axes>"
      ]
     },
     "metadata": {
      "needs_background": "light"
     },
     "output_type": "display_data"
    },
    {
     "data": {
      "image/png": "[encoded data removed]",
      "text/plain": [
       "<Figure size 1080x360 with 2 Axes>"
      ]
     },
     "metadata": {
      "needs_background": "light"
     },
     "output_type": "display_data"
    },
    {
     "data": {
      "image/png": "[encoded data removed]",
      "text/plain": [
       "<Figure size 1080x360 with 2 Axes>"
      ]
     },
     "metadata": {
      "needs_background": "light"
     },
     "output_type": "display_data"
    },
    {
     "data": {
      "image/png": "[encoded data removed]",
      "text/plain": [
       "<Figure size 1080x360 with 2 Axes>"
      ]
     },
     "metadata": {
      "needs_background": "light"
     },
     "output_type": "display_data"
    }
   ],
   "source": [
    "# After treating outliers\n",
    "for plot in df_int:\n",
    "    plt.figure(figsize =(15,5))\n",
    "    plt.subplot(1,2,1)\n",
    "    sns.distplot(df_int[plot])\n",
    "    plt.subplot(1,2,2)\n",
    "    sns.boxplot(df_int[plot])\n",
    "    plt.show()"
   ]
  },
  {
   "cell_type": "code",
   "execution_count": 809,
   "metadata": {},
   "outputs": [],
   "source": [
    "df_num = ['age', 'time_in_hospital','num_lab_procedures', 'num_procedures', 'num_medications',\n",
    "          'number_outpatient', 'number_emergency', 'number_inpatient', 'number_diagnoses']\n",
    "df_int = df1.loc[:,df_num]"
   ]
  },
  {
   "cell_type": "code",
   "execution_count": 810,
   "metadata": {},
   "outputs": [
    {
     "data": {
      "image/png": "[encoded data removed]",
      "text/plain": [
       "<Figure size 1080x576 with 2 Axes>"
      ]
     },
     "metadata": {
      "needs_background": "light"
     },
     "output_type": "display_data"
    }
   ],
   "source": [
    "# finding the correlation between the numerical features.\n",
    "plt.figure(figsize = (15,8))\n",
    "sns.heatmap(df_int.corr(), annot = True)\n",
    "plt.show()"
   ]
  },
  {
   "cell_type": "code",
   "execution_count": 811,
   "metadata": {},
   "outputs": [
    {
     "data": {
      "text/html": [
       "<div>\n",
       "<style scoped>\n",
       "    .dataframe tbody tr th:only-of-type {\n",
       "        vertical-align: middle;\n",
       "    }\n",
       "\n",
       "    .dataframe tbody tr th {\n",
       "        vertical-align: top;\n",
       "    }\n",
       "\n",
       "    .dataframe thead th {\n",
       "        text-align: right;\n",
       "    }\n",
       "</style>\n",
       "<table border=\"1\" class=\"dataframe\">\n",
       "  <thead>\n",
       "    <tr style=\"text-align: right;\">\n",
       "      <th></th>\n",
       "      <th>Features</th>\n",
       "      <th>VIF</th>\n",
       "    </tr>\n",
       "  </thead>\n",
       "  <tbody>\n",
       "    <tr>\n",
       "      <td>7</td>\n",
       "      <td>number_inpatient</td>\n",
       "      <td>1.044368</td>\n",
       "    </tr>\n",
       "    <tr>\n",
       "      <td>6</td>\n",
       "      <td>number_emergency</td>\n",
       "      <td>1.107535</td>\n",
       "    </tr>\n",
       "    <tr>\n",
       "      <td>5</td>\n",
       "      <td>number_outpatient</td>\n",
       "      <td>1.124811</td>\n",
       "    </tr>\n",
       "    <tr>\n",
       "      <td>3</td>\n",
       "      <td>num_procedures</td>\n",
       "      <td>2.502651</td>\n",
       "    </tr>\n",
       "    <tr>\n",
       "      <td>1</td>\n",
       "      <td>time_in_hospital</td>\n",
       "      <td>5.942519</td>\n",
       "    </tr>\n",
       "    <tr>\n",
       "      <td>2</td>\n",
       "      <td>num_lab_procedures</td>\n",
       "      <td>6.798748</td>\n",
       "    </tr>\n",
       "    <tr>\n",
       "      <td>4</td>\n",
       "      <td>num_medications</td>\n",
       "      <td>7.903317</td>\n",
       "    </tr>\n",
       "    <tr>\n",
       "      <td>0</td>\n",
       "      <td>age</td>\n",
       "      <td>14.135536</td>\n",
       "    </tr>\n",
       "    <tr>\n",
       "      <td>8</td>\n",
       "      <td>number_diagnoses</td>\n",
       "      <td>16.499591</td>\n",
       "    </tr>\n",
       "  </tbody>\n",
       "</table>\n",
       "</div>"
      ],
      "text/plain": [
       "             Features        VIF\n",
       "7    number_inpatient   1.044368\n",
       "6    number_emergency   1.107535\n",
       "5   number_outpatient   1.124811\n",
       "3      num_procedures   2.502651\n",
       "1    time_in_hospital   5.942519\n",
       "2  num_lab_procedures   6.798748\n",
       "4     num_medications   7.903317\n",
       "0                 age  14.135536\n",
       "8    number_diagnoses  16.499591"
      ]
     },
     "execution_count": 811,
     "metadata": {},
     "output_type": "execute_result"
    }
   ],
   "source": [
    "# Variance Inflation Factor\n",
    "from statsmodels.stats.outliers_influence import variance_inflation_factor\n",
    "vif = pd.DataFrame()\n",
    "vif[\"Features\"] = df_int.columns\n",
    "vif[\"VIF\"] = [variance_inflation_factor(df_int.values, i) for i in range(df_int.shape[1])]\n",
    "vif = vif.sort_values(\"VIF\", ascending = True)\n",
    "vif"
   ]
  },
  {
   "cell_type": "code",
   "execution_count": 812,
   "metadata": {},
   "outputs": [],
   "source": [
    "df_int = df_int.drop([\"number_diagnoses\"], axis = 1)"
   ]
  },
  {
   "cell_type": "code",
   "execution_count": 813,
   "metadata": {},
   "outputs": [
    {
     "data": {
      "text/html": [
       "<div>\n",
       "<style scoped>\n",
       "    .dataframe tbody tr th:only-of-type {\n",
       "        vertical-align: middle;\n",
       "    }\n",
       "\n",
       "    .dataframe tbody tr th {\n",
       "        vertical-align: top;\n",
       "    }\n",
       "\n",
       "    .dataframe thead th {\n",
       "        text-align: right;\n",
       "    }\n",
       "</style>\n",
       "<table border=\"1\" class=\"dataframe\">\n",
       "  <thead>\n",
       "    <tr style=\"text-align: right;\">\n",
       "      <th></th>\n",
       "      <th>Features</th>\n",
       "      <th>VIF</th>\n",
       "    </tr>\n",
       "  </thead>\n",
       "  <tbody>\n",
       "    <tr>\n",
       "      <td>7</td>\n",
       "      <td>number_inpatient</td>\n",
       "      <td>1.042882</td>\n",
       "    </tr>\n",
       "    <tr>\n",
       "      <td>6</td>\n",
       "      <td>number_emergency</td>\n",
       "      <td>1.096322</td>\n",
       "    </tr>\n",
       "    <tr>\n",
       "      <td>5</td>\n",
       "      <td>number_outpatient</td>\n",
       "      <td>1.117409</td>\n",
       "    </tr>\n",
       "    <tr>\n",
       "      <td>3</td>\n",
       "      <td>num_procedures</td>\n",
       "      <td>2.496668</td>\n",
       "    </tr>\n",
       "    <tr>\n",
       "      <td>1</td>\n",
       "      <td>time_in_hospital</td>\n",
       "      <td>5.904034</td>\n",
       "    </tr>\n",
       "    <tr>\n",
       "      <td>2</td>\n",
       "      <td>num_lab_procedures</td>\n",
       "      <td>6.530668</td>\n",
       "    </tr>\n",
       "    <tr>\n",
       "      <td>0</td>\n",
       "      <td>age</td>\n",
       "      <td>7.291405</td>\n",
       "    </tr>\n",
       "    <tr>\n",
       "      <td>4</td>\n",
       "      <td>num_medications</td>\n",
       "      <td>7.525266</td>\n",
       "    </tr>\n",
       "  </tbody>\n",
       "</table>\n",
       "</div>"
      ],
      "text/plain": [
       "             Features       VIF\n",
       "7    number_inpatient  1.042882\n",
       "6    number_emergency  1.096322\n",
       "5   number_outpatient  1.117409\n",
       "3      num_procedures  2.496668\n",
       "1    time_in_hospital  5.904034\n",
       "2  num_lab_procedures  6.530668\n",
       "0                 age  7.291405\n",
       "4     num_medications  7.525266"
      ]
     },
     "execution_count": 813,
     "metadata": {},
     "output_type": "execute_result"
    }
   ],
   "source": [
    "vif = pd.DataFrame()\n",
    "vif[\"Features\"] = df_int.columns\n",
    "vif[\"VIF\"] = [variance_inflation_factor(df_int.values, i) for i in range(df_int.shape[1])]\n",
    "vif = vif.sort_values(\"VIF\", ascending = True)\n",
    "vif"
   ]
  },
  {
   "cell_type": "code",
   "execution_count": 814,
   "metadata": {},
   "outputs": [],
   "source": [
    "# Significant Numerical features will be used for modelling\n",
    "sig_num = ['age', 'time_in_hospital','num_lab_procedures', 'num_procedures','number_outpatient', \n",
    "           'number_emergency', 'number_inpatient', 'num_medications']"
   ]
  },
  {
   "cell_type": "markdown",
   "metadata": {},
   "source": [
    "### Scaling Numerical Features"
   ]
  },
  {
   "cell_type": "code",
   "execution_count": 815,
   "metadata": {},
   "outputs": [],
   "source": [
    "mms = MinMaxScaler()\n",
    "df_int_scaled = mms.fit_transform(df1.loc[:, sig_num])\n",
    "df_scaled = pd.DataFrame(df_int_scaled, columns = df_int.columns)"
   ]
  },
  {
   "cell_type": "code",
   "execution_count": 816,
   "metadata": {},
   "outputs": [
    {
     "data": {
      "text/html": [
       "<div>\n",
       "<style scoped>\n",
       "    .dataframe tbody tr th:only-of-type {\n",
       "        vertical-align: middle;\n",
       "    }\n",
       "\n",
       "    .dataframe tbody tr th {\n",
       "        vertical-align: top;\n",
       "    }\n",
       "\n",
       "    .dataframe thead th {\n",
       "        text-align: right;\n",
       "    }\n",
       "</style>\n",
       "<table border=\"1\" class=\"dataframe\">\n",
       "  <thead>\n",
       "    <tr style=\"text-align: right;\">\n",
       "      <th></th>\n",
       "      <th>age</th>\n",
       "      <th>time_in_hospital</th>\n",
       "      <th>num_lab_procedures</th>\n",
       "      <th>num_procedures</th>\n",
       "      <th>num_medications</th>\n",
       "      <th>number_outpatient</th>\n",
       "      <th>number_emergency</th>\n",
       "      <th>number_inpatient</th>\n",
       "    </tr>\n",
       "  </thead>\n",
       "  <tbody>\n",
       "    <tr>\n",
       "      <td>0</td>\n",
       "      <td>0.000000</td>\n",
       "      <td>0.262650</td>\n",
       "      <td>0.105263</td>\n",
       "      <td>0.912871</td>\n",
       "      <td>0.137931</td>\n",
       "      <td>0.0</td>\n",
       "      <td>0.931709</td>\n",
       "      <td>0.230769</td>\n",
       "    </tr>\n",
       "    <tr>\n",
       "      <td>1</td>\n",
       "      <td>0.142857</td>\n",
       "      <td>0.262650</td>\n",
       "      <td>0.452632</td>\n",
       "      <td>0.408248</td>\n",
       "      <td>0.000000</td>\n",
       "      <td>0.0</td>\n",
       "      <td>0.000000</td>\n",
       "      <td>0.288462</td>\n",
       "    </tr>\n",
       "    <tr>\n",
       "      <td>2</td>\n",
       "      <td>0.285714</td>\n",
       "      <td>0.000000</td>\n",
       "      <td>0.526316</td>\n",
       "      <td>0.000000</td>\n",
       "      <td>0.000000</td>\n",
       "      <td>0.0</td>\n",
       "      <td>0.000000</td>\n",
       "      <td>0.134615</td>\n",
       "    </tr>\n",
       "    <tr>\n",
       "      <td>3</td>\n",
       "      <td>0.428571</td>\n",
       "      <td>0.416290</td>\n",
       "      <td>0.315789</td>\n",
       "      <td>1.000000</td>\n",
       "      <td>0.000000</td>\n",
       "      <td>0.0</td>\n",
       "      <td>0.000000</td>\n",
       "      <td>0.288462</td>\n",
       "    </tr>\n",
       "    <tr>\n",
       "      <td>4</td>\n",
       "      <td>0.571429</td>\n",
       "      <td>0.525299</td>\n",
       "      <td>0.726316</td>\n",
       "      <td>0.408248</td>\n",
       "      <td>0.000000</td>\n",
       "      <td>0.0</td>\n",
       "      <td>0.000000</td>\n",
       "      <td>0.384615</td>\n",
       "    </tr>\n",
       "  </tbody>\n",
       "</table>\n",
       "</div>"
      ],
      "text/plain": [
       "        age  time_in_hospital  num_lab_procedures  num_procedures  \\\n",
       "0  0.000000          0.262650            0.105263        0.912871   \n",
       "1  0.142857          0.262650            0.452632        0.408248   \n",
       "2  0.285714          0.000000            0.526316        0.000000   \n",
       "3  0.428571          0.416290            0.315789        1.000000   \n",
       "4  0.571429          0.525299            0.726316        0.408248   \n",
       "\n",
       "   num_medications  number_outpatient  number_emergency  number_inpatient  \n",
       "0         0.137931                0.0          0.931709          0.230769  \n",
       "1         0.000000                0.0          0.000000          0.288462  \n",
       "2         0.000000                0.0          0.000000          0.134615  \n",
       "3         0.000000                0.0          0.000000          0.288462  \n",
       "4         0.000000                0.0          0.000000          0.384615  "
      ]
     },
     "execution_count": 816,
     "metadata": {},
     "output_type": "execute_result"
    }
   ],
   "source": [
    "df_scaled.head()"
   ]
  },
  {
   "cell_type": "code",
   "execution_count": 817,
   "metadata": {},
   "outputs": [],
   "source": [
    "df_obj = df1.drop(df_num, axis = 1)\n",
    "df_cat = df_obj.drop('readmitted', axis = 1)"
   ]
  },
  {
   "cell_type": "code",
   "execution_count": 818,
   "metadata": {},
   "outputs": [],
   "source": [
    "X = df_cat\n",
    "y = df1[\"readmitted\"]"
   ]
  },
  {
   "cell_type": "code",
   "execution_count": 819,
   "metadata": {},
   "outputs": [],
   "source": [
    "from sklearn.model_selection import train_test_split\n",
    "X_train, X_test, y_train, y_test = train_test_split(X, y, test_size = 0.3, random_state = 49)"
   ]
  },
  {
   "cell_type": "markdown",
   "metadata": {},
   "source": [
    "### Chi2 Test"
   ]
  },
  {
   "cell_type": "code",
   "execution_count": 820,
   "metadata": {},
   "outputs": [],
   "source": [
    "# to find the significant categorical features\n",
    "from sklearn.feature_selection import chi2\n",
    "p_values = chi2(X_train, y_train)\n",
    "data = p_values[1]\n",
    "significant_features = pd.DataFrame(data, index = X.columns, columns = [\"p_value\"])\n",
    "sig_cat = significant_features[significant_features[\"p_value\"] < 0.05]"
   ]
  },
  {
   "cell_type": "code",
   "execution_count": 821,
   "metadata": {},
   "outputs": [
    {
     "data": {
      "text/html": [
       "<div>\n",
       "<style scoped>\n",
       "    .dataframe tbody tr th:only-of-type {\n",
       "        vertical-align: middle;\n",
       "    }\n",
       "\n",
       "    .dataframe tbody tr th {\n",
       "        vertical-align: top;\n",
       "    }\n",
       "\n",
       "    .dataframe thead th {\n",
       "        text-align: right;\n",
       "    }\n",
       "</style>\n",
       "<table border=\"1\" class=\"dataframe\">\n",
       "  <thead>\n",
       "    <tr style=\"text-align: right;\">\n",
       "      <th></th>\n",
       "      <th>p_value</th>\n",
       "    </tr>\n",
       "  </thead>\n",
       "  <tbody>\n",
       "    <tr>\n",
       "      <td>No_of_Visit</td>\n",
       "      <td>0.000000e+00</td>\n",
       "    </tr>\n",
       "    <tr>\n",
       "      <td>gender</td>\n",
       "      <td>9.288505e-03</td>\n",
       "    </tr>\n",
       "    <tr>\n",
       "      <td>max_glu_serum</td>\n",
       "      <td>1.794659e-09</td>\n",
       "    </tr>\n",
       "    <tr>\n",
       "      <td>A1Cresult</td>\n",
       "      <td>4.067193e-44</td>\n",
       "    </tr>\n",
       "    <tr>\n",
       "      <td>metformin</td>\n",
       "      <td>6.854751e-14</td>\n",
       "    </tr>\n",
       "    <tr>\n",
       "      <td>repaglinide</td>\n",
       "      <td>3.774967e-11</td>\n",
       "    </tr>\n",
       "    <tr>\n",
       "      <td>glipizide</td>\n",
       "      <td>6.417725e-09</td>\n",
       "    </tr>\n",
       "    <tr>\n",
       "      <td>pioglitazone</td>\n",
       "      <td>1.957398e-04</td>\n",
       "    </tr>\n",
       "    <tr>\n",
       "      <td>acarbose</td>\n",
       "      <td>2.038578e-02</td>\n",
       "    </tr>\n",
       "    <tr>\n",
       "      <td>miglitol</td>\n",
       "      <td>7.425947e-04</td>\n",
       "    </tr>\n",
       "    <tr>\n",
       "      <td>insulin</td>\n",
       "      <td>2.269973e-18</td>\n",
       "    </tr>\n",
       "    <tr>\n",
       "      <td>change</td>\n",
       "      <td>1.093938e-12</td>\n",
       "    </tr>\n",
       "    <tr>\n",
       "      <td>diabetesMed</td>\n",
       "      <td>1.215058e-13</td>\n",
       "    </tr>\n",
       "    <tr>\n",
       "      <td>race_AfricanAmerican</td>\n",
       "      <td>1.505412e-02</td>\n",
       "    </tr>\n",
       "    <tr>\n",
       "      <td>race_Asian</td>\n",
       "      <td>7.871964e-05</td>\n",
       "    </tr>\n",
       "    <tr>\n",
       "      <td>race_Caucasian</td>\n",
       "      <td>1.124414e-02</td>\n",
       "    </tr>\n",
       "    <tr>\n",
       "      <td>race_Hispanic</td>\n",
       "      <td>2.435049e-03</td>\n",
       "    </tr>\n",
       "    <tr>\n",
       "      <td>race_Other</td>\n",
       "      <td>6.177316e-04</td>\n",
       "    </tr>\n",
       "    <tr>\n",
       "      <td>admission_type_id_Elective</td>\n",
       "      <td>4.585227e-23</td>\n",
       "    </tr>\n",
       "    <tr>\n",
       "      <td>admission_type_id_Others</td>\n",
       "      <td>3.369879e-20</td>\n",
       "    </tr>\n",
       "    <tr>\n",
       "      <td>discharge_disposition_id_Discharged</td>\n",
       "      <td>3.642950e-04</td>\n",
       "    </tr>\n",
       "    <tr>\n",
       "      <td>discharge_disposition_id_Others</td>\n",
       "      <td>1.373866e-70</td>\n",
       "    </tr>\n",
       "    <tr>\n",
       "      <td>discharge_disposition_id_Transfer</td>\n",
       "      <td>5.567314e-42</td>\n",
       "    </tr>\n",
       "    <tr>\n",
       "      <td>admission_source_id_Emergency Room</td>\n",
       "      <td>2.065693e-16</td>\n",
       "    </tr>\n",
       "    <tr>\n",
       "      <td>admission_source_id_Referral</td>\n",
       "      <td>8.622158e-09</td>\n",
       "    </tr>\n",
       "    <tr>\n",
       "      <td>admission_source_id_Transfer</td>\n",
       "      <td>6.021381e-14</td>\n",
       "    </tr>\n",
       "    <tr>\n",
       "      <td>diag_1_Circulatory</td>\n",
       "      <td>3.063696e-05</td>\n",
       "    </tr>\n",
       "    <tr>\n",
       "      <td>diag_1_Diabetes</td>\n",
       "      <td>8.254806e-06</td>\n",
       "    </tr>\n",
       "    <tr>\n",
       "      <td>diag_1_Genitourinary</td>\n",
       "      <td>4.817292e-03</td>\n",
       "    </tr>\n",
       "    <tr>\n",
       "      <td>diag_1_Musculoskeletal</td>\n",
       "      <td>4.293147e-06</td>\n",
       "    </tr>\n",
       "    <tr>\n",
       "      <td>diag_1_Neoplasms</td>\n",
       "      <td>4.121376e-20</td>\n",
       "    </tr>\n",
       "    <tr>\n",
       "      <td>diag_1_Respiratory</td>\n",
       "      <td>2.127329e-03</td>\n",
       "    </tr>\n",
       "    <tr>\n",
       "      <td>diag_2_Circulatory</td>\n",
       "      <td>3.674726e-09</td>\n",
       "    </tr>\n",
       "    <tr>\n",
       "      <td>diag_2_Diabetes</td>\n",
       "      <td>1.753343e-15</td>\n",
       "    </tr>\n",
       "    <tr>\n",
       "      <td>diag_2_Digestive</td>\n",
       "      <td>4.509059e-03</td>\n",
       "    </tr>\n",
       "    <tr>\n",
       "      <td>diag_2_Injury</td>\n",
       "      <td>2.129814e-04</td>\n",
       "    </tr>\n",
       "    <tr>\n",
       "      <td>diag_2_Musculoskeletal</td>\n",
       "      <td>3.057645e-02</td>\n",
       "    </tr>\n",
       "    <tr>\n",
       "      <td>diag_3_Circulatory</td>\n",
       "      <td>3.288420e-03</td>\n",
       "    </tr>\n",
       "    <tr>\n",
       "      <td>diag_3_Diabetes</td>\n",
       "      <td>2.253496e-17</td>\n",
       "    </tr>\n",
       "    <tr>\n",
       "      <td>diag_3_Genitourinary</td>\n",
       "      <td>2.793163e-03</td>\n",
       "    </tr>\n",
       "    <tr>\n",
       "      <td>diag_3_Injury</td>\n",
       "      <td>5.587685e-04</td>\n",
       "    </tr>\n",
       "    <tr>\n",
       "      <td>diag_3_Respiratory</td>\n",
       "      <td>1.289443e-04</td>\n",
       "    </tr>\n",
       "  </tbody>\n",
       "</table>\n",
       "</div>"
      ],
      "text/plain": [
       "                                          p_value\n",
       "No_of_Visit                          0.000000e+00\n",
       "gender                               9.288505e-03\n",
       "max_glu_serum                        1.794659e-09\n",
       "A1Cresult                            4.067193e-44\n",
       "metformin                            6.854751e-14\n",
       "repaglinide                          3.774967e-11\n",
       "glipizide                            6.417725e-09\n",
       "pioglitazone                         1.957398e-04\n",
       "acarbose                             2.038578e-02\n",
       "miglitol                             7.425947e-04\n",
       "insulin                              2.269973e-18\n",
       "change                               1.093938e-12\n",
       "diabetesMed                          1.215058e-13\n",
       "race_AfricanAmerican                 1.505412e-02\n",
       "race_Asian                           7.871964e-05\n",
       "race_Caucasian                       1.124414e-02\n",
       "race_Hispanic                        2.435049e-03\n",
       "race_Other                           6.177316e-04\n",
       "admission_type_id_Elective           4.585227e-23\n",
       "admission_type_id_Others             3.369879e-20\n",
       "discharge_disposition_id_Discharged  3.642950e-04\n",
       "discharge_disposition_id_Others      1.373866e-70\n",
       "discharge_disposition_id_Transfer    5.567314e-42\n",
       "admission_source_id_Emergency Room   2.065693e-16\n",
       "admission_source_id_Referral         8.622158e-09\n",
       "admission_source_id_Transfer         6.021381e-14\n",
       "diag_1_Circulatory                   3.063696e-05\n",
       "diag_1_Diabetes                      8.254806e-06\n",
       "diag_1_Genitourinary                 4.817292e-03\n",
       "diag_1_Musculoskeletal               4.293147e-06\n",
       "diag_1_Neoplasms                     4.121376e-20\n",
       "diag_1_Respiratory                   2.127329e-03\n",
       "diag_2_Circulatory                   3.674726e-09\n",
       "diag_2_Diabetes                      1.753343e-15\n",
       "diag_2_Digestive                     4.509059e-03\n",
       "diag_2_Injury                        2.129814e-04\n",
       "diag_2_Musculoskeletal               3.057645e-02\n",
       "diag_3_Circulatory                   3.288420e-03\n",
       "diag_3_Diabetes                      2.253496e-17\n",
       "diag_3_Genitourinary                 2.793163e-03\n",
       "diag_3_Injury                        5.587685e-04\n",
       "diag_3_Respiratory                   1.289443e-04"
      ]
     },
     "execution_count": 821,
     "metadata": {},
     "output_type": "execute_result"
    }
   ],
   "source": [
    "# these following features are suggested significant for modeling by chi2 test for categorical features\n",
    "sig_cat"
   ]
  },
  {
   "cell_type": "code",
   "execution_count": 826,
   "metadata": {},
   "outputs": [],
   "source": [
    "cat_sig = df1.loc[:,sig_cat.index]\n",
    "cat_sig.reset_index(inplace=True)"
   ]
  },
  {
   "cell_type": "code",
   "execution_count": 827,
   "metadata": {},
   "outputs": [],
   "source": [
    "#df_scaled.reset_index(inplace=True)"
   ]
  },
  {
   "cell_type": "code",
   "execution_count": 828,
   "metadata": {},
   "outputs": [],
   "source": [
    "df2 = pd.concat([df_scaled, cat_sig], axis = 1)"
   ]
  },
  {
   "cell_type": "code",
   "execution_count": 830,
   "metadata": {},
   "outputs": [],
   "source": [
    "df3 = pd.concat([df2, df1['readmitted']], axis = 1)"
   ]
  },
  {
   "cell_type": "markdown",
   "metadata": {},
   "source": [
    "### Model Building"
   ]
  },
  {
   "cell_type": "code",
   "execution_count": 666,
   "metadata": {},
   "outputs": [],
   "source": [
    "X = df2.drop('readmitted', axis = 1)\n",
    "y = df2['readmitted']"
   ]
  },
  {
   "cell_type": "code",
   "execution_count": 667,
   "metadata": {},
   "outputs": [],
   "source": [
    "X_train, X_test, y_train, y_test = train_test_split(X, y, test_size = 0.3, random_state = 49)"
   ]
  },
  {
   "cell_type": "code",
   "execution_count": 668,
   "metadata": {},
   "outputs": [
    {
     "data": {
      "text/html": [
       "<div>\n",
       "<style scoped>\n",
       "    .dataframe tbody tr th:only-of-type {\n",
       "        vertical-align: middle;\n",
       "    }\n",
       "\n",
       "    .dataframe tbody tr th {\n",
       "        vertical-align: top;\n",
       "    }\n",
       "\n",
       "    .dataframe thead th {\n",
       "        text-align: right;\n",
       "    }\n",
       "</style>\n",
       "<table border=\"1\" class=\"dataframe\">\n",
       "  <thead>\n",
       "    <tr style=\"text-align: right;\">\n",
       "      <th></th>\n",
       "      <th>age</th>\n",
       "      <th>time_in_hospital</th>\n",
       "      <th>num_lab_procedures</th>\n",
       "      <th>num_procedures</th>\n",
       "      <th>num_medications</th>\n",
       "      <th>number_outpatient</th>\n",
       "      <th>number_emergency</th>\n",
       "      <th>number_inpatient</th>\n",
       "      <th>No_of_Visit</th>\n",
       "      <th>gender</th>\n",
       "      <th>max_glu_serum</th>\n",
       "      <th>A1Cresult</th>\n",
       "      <th>metformin</th>\n",
       "      <th>repaglinide</th>\n",
       "      <th>glipizide</th>\n",
       "      <th>pioglitazone</th>\n",
       "      <th>acarbose</th>\n",
       "      <th>miglitol</th>\n",
       "      <th>insulin</th>\n",
       "      <th>change</th>\n",
       "      <th>diabetesMed</th>\n",
       "      <th>race_AfricanAmerican</th>\n",
       "      <th>race_Asian</th>\n",
       "      <th>race_Caucasian</th>\n",
       "      <th>race_Hispanic</th>\n",
       "      <th>race_Other</th>\n",
       "      <th>admission_type_id_Elective</th>\n",
       "      <th>admission_type_id_Others</th>\n",
       "      <th>discharge_disposition_id_Discharged</th>\n",
       "      <th>discharge_disposition_id_Others</th>\n",
       "      <th>discharge_disposition_id_Transfer</th>\n",
       "      <th>admission_source_id_Emergency Room</th>\n",
       "      <th>admission_source_id_Referral</th>\n",
       "      <th>admission_source_id_Transfer</th>\n",
       "      <th>diag_1_Circulatory</th>\n",
       "      <th>diag_1_Diabetes</th>\n",
       "      <th>diag_1_Genitourinary</th>\n",
       "      <th>diag_1_Musculoskeletal</th>\n",
       "      <th>diag_1_Neoplasms</th>\n",
       "      <th>diag_1_Respiratory</th>\n",
       "      <th>diag_2_Circulatory</th>\n",
       "      <th>diag_2_Diabetes</th>\n",
       "      <th>diag_2_Digestive</th>\n",
       "      <th>diag_2_Injury</th>\n",
       "      <th>diag_2_Musculoskeletal</th>\n",
       "      <th>diag_3_Circulatory</th>\n",
       "      <th>diag_3_Diabetes</th>\n",
       "      <th>diag_3_Genitourinary</th>\n",
       "      <th>diag_3_Injury</th>\n",
       "      <th>diag_3_Respiratory</th>\n",
       "    </tr>\n",
       "  </thead>\n",
       "  <tbody>\n",
       "    <tr>\n",
       "      <td>0</td>\n",
       "      <td>0.000000</td>\n",
       "      <td>0.262650</td>\n",
       "      <td>0.105263</td>\n",
       "      <td>0.912871</td>\n",
       "      <td>0.137931</td>\n",
       "      <td>0.0</td>\n",
       "      <td>0.931709</td>\n",
       "      <td>0.230769</td>\n",
       "      <td>NaN</td>\n",
       "      <td>NaN</td>\n",
       "      <td>NaN</td>\n",
       "      <td>NaN</td>\n",
       "      <td>NaN</td>\n",
       "      <td>NaN</td>\n",
       "      <td>NaN</td>\n",
       "      <td>NaN</td>\n",
       "      <td>NaN</td>\n",
       "      <td>NaN</td>\n",
       "      <td>NaN</td>\n",
       "      <td>NaN</td>\n",
       "      <td>NaN</td>\n",
       "      <td>NaN</td>\n",
       "      <td>NaN</td>\n",
       "      <td>NaN</td>\n",
       "      <td>NaN</td>\n",
       "      <td>NaN</td>\n",
       "      <td>NaN</td>\n",
       "      <td>NaN</td>\n",
       "      <td>NaN</td>\n",
       "      <td>NaN</td>\n",
       "      <td>NaN</td>\n",
       "      <td>NaN</td>\n",
       "      <td>NaN</td>\n",
       "      <td>NaN</td>\n",
       "      <td>NaN</td>\n",
       "      <td>NaN</td>\n",
       "      <td>NaN</td>\n",
       "      <td>NaN</td>\n",
       "      <td>NaN</td>\n",
       "      <td>NaN</td>\n",
       "      <td>NaN</td>\n",
       "      <td>NaN</td>\n",
       "      <td>NaN</td>\n",
       "      <td>NaN</td>\n",
       "      <td>NaN</td>\n",
       "      <td>NaN</td>\n",
       "      <td>NaN</td>\n",
       "      <td>NaN</td>\n",
       "      <td>NaN</td>\n",
       "      <td>NaN</td>\n",
       "    </tr>\n",
       "    <tr>\n",
       "      <td>1</td>\n",
       "      <td>0.142857</td>\n",
       "      <td>0.262650</td>\n",
       "      <td>0.452632</td>\n",
       "      <td>0.408248</td>\n",
       "      <td>0.000000</td>\n",
       "      <td>0.0</td>\n",
       "      <td>0.000000</td>\n",
       "      <td>0.288462</td>\n",
       "      <td>NaN</td>\n",
       "      <td>NaN</td>\n",
       "      <td>NaN</td>\n",
       "      <td>NaN</td>\n",
       "      <td>NaN</td>\n",
       "      <td>NaN</td>\n",
       "      <td>NaN</td>\n",
       "      <td>NaN</td>\n",
       "      <td>NaN</td>\n",
       "      <td>NaN</td>\n",
       "      <td>NaN</td>\n",
       "      <td>NaN</td>\n",
       "      <td>NaN</td>\n",
       "      <td>NaN</td>\n",
       "      <td>NaN</td>\n",
       "      <td>NaN</td>\n",
       "      <td>NaN</td>\n",
       "      <td>NaN</td>\n",
       "      <td>NaN</td>\n",
       "      <td>NaN</td>\n",
       "      <td>NaN</td>\n",
       "      <td>NaN</td>\n",
       "      <td>NaN</td>\n",
       "      <td>NaN</td>\n",
       "      <td>NaN</td>\n",
       "      <td>NaN</td>\n",
       "      <td>NaN</td>\n",
       "      <td>NaN</td>\n",
       "      <td>NaN</td>\n",
       "      <td>NaN</td>\n",
       "      <td>NaN</td>\n",
       "      <td>NaN</td>\n",
       "      <td>NaN</td>\n",
       "      <td>NaN</td>\n",
       "      <td>NaN</td>\n",
       "      <td>NaN</td>\n",
       "      <td>NaN</td>\n",
       "      <td>NaN</td>\n",
       "      <td>NaN</td>\n",
       "      <td>NaN</td>\n",
       "      <td>NaN</td>\n",
       "      <td>NaN</td>\n",
       "    </tr>\n",
       "    <tr>\n",
       "      <td>2</td>\n",
       "      <td>0.285714</td>\n",
       "      <td>0.000000</td>\n",
       "      <td>0.526316</td>\n",
       "      <td>0.000000</td>\n",
       "      <td>0.000000</td>\n",
       "      <td>0.0</td>\n",
       "      <td>0.000000</td>\n",
       "      <td>0.134615</td>\n",
       "      <td>1.0</td>\n",
       "      <td>1.0</td>\n",
       "      <td>0.0</td>\n",
       "      <td>0.0</td>\n",
       "      <td>0.0</td>\n",
       "      <td>0.0</td>\n",
       "      <td>2.0</td>\n",
       "      <td>0.0</td>\n",
       "      <td>0.0</td>\n",
       "      <td>0.0</td>\n",
       "      <td>0.0</td>\n",
       "      <td>0.0</td>\n",
       "      <td>1.0</td>\n",
       "      <td>1.0</td>\n",
       "      <td>0.0</td>\n",
       "      <td>0.0</td>\n",
       "      <td>0.0</td>\n",
       "      <td>0.0</td>\n",
       "      <td>0.0</td>\n",
       "      <td>0.0</td>\n",
       "      <td>1.0</td>\n",
       "      <td>0.0</td>\n",
       "      <td>0.0</td>\n",
       "      <td>1.0</td>\n",
       "      <td>0.0</td>\n",
       "      <td>0.0</td>\n",
       "      <td>0.0</td>\n",
       "      <td>0.0</td>\n",
       "      <td>0.0</td>\n",
       "      <td>0.0</td>\n",
       "      <td>0.0</td>\n",
       "      <td>0.0</td>\n",
       "      <td>0.0</td>\n",
       "      <td>1.0</td>\n",
       "      <td>0.0</td>\n",
       "      <td>0.0</td>\n",
       "      <td>0.0</td>\n",
       "      <td>0.0</td>\n",
       "      <td>0.0</td>\n",
       "      <td>0.0</td>\n",
       "      <td>0.0</td>\n",
       "      <td>0.0</td>\n",
       "    </tr>\n",
       "    <tr>\n",
       "      <td>3</td>\n",
       "      <td>0.428571</td>\n",
       "      <td>0.416290</td>\n",
       "      <td>0.315789</td>\n",
       "      <td>1.000000</td>\n",
       "      <td>0.000000</td>\n",
       "      <td>0.0</td>\n",
       "      <td>0.000000</td>\n",
       "      <td>0.288462</td>\n",
       "      <td>1.0</td>\n",
       "      <td>0.0</td>\n",
       "      <td>0.0</td>\n",
       "      <td>0.0</td>\n",
       "      <td>0.0</td>\n",
       "      <td>0.0</td>\n",
       "      <td>0.0</td>\n",
       "      <td>0.0</td>\n",
       "      <td>0.0</td>\n",
       "      <td>0.0</td>\n",
       "      <td>3.0</td>\n",
       "      <td>1.0</td>\n",
       "      <td>1.0</td>\n",
       "      <td>0.0</td>\n",
       "      <td>0.0</td>\n",
       "      <td>1.0</td>\n",
       "      <td>0.0</td>\n",
       "      <td>0.0</td>\n",
       "      <td>0.0</td>\n",
       "      <td>0.0</td>\n",
       "      <td>1.0</td>\n",
       "      <td>0.0</td>\n",
       "      <td>0.0</td>\n",
       "      <td>1.0</td>\n",
       "      <td>0.0</td>\n",
       "      <td>0.0</td>\n",
       "      <td>0.0</td>\n",
       "      <td>0.0</td>\n",
       "      <td>0.0</td>\n",
       "      <td>0.0</td>\n",
       "      <td>0.0</td>\n",
       "      <td>0.0</td>\n",
       "      <td>0.0</td>\n",
       "      <td>0.0</td>\n",
       "      <td>0.0</td>\n",
       "      <td>0.0</td>\n",
       "      <td>0.0</td>\n",
       "      <td>1.0</td>\n",
       "      <td>0.0</td>\n",
       "      <td>0.0</td>\n",
       "      <td>0.0</td>\n",
       "      <td>0.0</td>\n",
       "    </tr>\n",
       "    <tr>\n",
       "      <td>4</td>\n",
       "      <td>0.571429</td>\n",
       "      <td>0.525299</td>\n",
       "      <td>0.726316</td>\n",
       "      <td>0.408248</td>\n",
       "      <td>0.000000</td>\n",
       "      <td>0.0</td>\n",
       "      <td>0.000000</td>\n",
       "      <td>0.384615</td>\n",
       "      <td>1.0</td>\n",
       "      <td>0.0</td>\n",
       "      <td>0.0</td>\n",
       "      <td>0.0</td>\n",
       "      <td>0.0</td>\n",
       "      <td>0.0</td>\n",
       "      <td>2.0</td>\n",
       "      <td>0.0</td>\n",
       "      <td>0.0</td>\n",
       "      <td>0.0</td>\n",
       "      <td>2.0</td>\n",
       "      <td>1.0</td>\n",
       "      <td>1.0</td>\n",
       "      <td>0.0</td>\n",
       "      <td>0.0</td>\n",
       "      <td>1.0</td>\n",
       "      <td>0.0</td>\n",
       "      <td>0.0</td>\n",
       "      <td>0.0</td>\n",
       "      <td>0.0</td>\n",
       "      <td>1.0</td>\n",
       "      <td>0.0</td>\n",
       "      <td>0.0</td>\n",
       "      <td>1.0</td>\n",
       "      <td>0.0</td>\n",
       "      <td>0.0</td>\n",
       "      <td>0.0</td>\n",
       "      <td>0.0</td>\n",
       "      <td>0.0</td>\n",
       "      <td>0.0</td>\n",
       "      <td>1.0</td>\n",
       "      <td>0.0</td>\n",
       "      <td>0.0</td>\n",
       "      <td>0.0</td>\n",
       "      <td>0.0</td>\n",
       "      <td>0.0</td>\n",
       "      <td>0.0</td>\n",
       "      <td>0.0</td>\n",
       "      <td>1.0</td>\n",
       "      <td>0.0</td>\n",
       "      <td>0.0</td>\n",
       "      <td>0.0</td>\n",
       "    </tr>\n",
       "  </tbody>\n",
       "</table>\n",
       "</div>"
      ],
      "text/plain": [
       "        age  time_in_hospital  num_lab_procedures  num_procedures  \\\n",
       "0  0.000000          0.262650            0.105263        0.912871   \n",
       "1  0.142857          0.262650            0.452632        0.408248   \n",
       "2  0.285714          0.000000            0.526316        0.000000   \n",
       "3  0.428571          0.416290            0.315789        1.000000   \n",
       "4  0.571429          0.525299            0.726316        0.408248   \n",
       "\n",
       "   num_medications  number_outpatient  number_emergency  number_inpatient  \\\n",
       "0         0.137931                0.0          0.931709          0.230769   \n",
       "1         0.000000                0.0          0.000000          0.288462   \n",
       "2         0.000000                0.0          0.000000          0.134615   \n",
       "3         0.000000                0.0          0.000000          0.288462   \n",
       "4         0.000000                0.0          0.000000          0.384615   \n",
       "\n",
       "   No_of_Visit  gender  max_glu_serum  A1Cresult  metformin  repaglinide  \\\n",
       "0          NaN     NaN            NaN        NaN        NaN          NaN   \n",
       "1          NaN     NaN            NaN        NaN        NaN          NaN   \n",
       "2          1.0     1.0            0.0        0.0        0.0          0.0   \n",
       "3          1.0     0.0            0.0        0.0        0.0          0.0   \n",
       "4          1.0     0.0            0.0        0.0        0.0          0.0   \n",
       "\n",
       "   glipizide  pioglitazone  acarbose  miglitol  insulin  change  diabetesMed  \\\n",
       "0        NaN           NaN       NaN       NaN      NaN     NaN          NaN   \n",
       "1        NaN           NaN       NaN       NaN      NaN     NaN          NaN   \n",
       "2        2.0           0.0       0.0       0.0      0.0     0.0          1.0   \n",
       "3        0.0           0.0       0.0       0.0      3.0     1.0          1.0   \n",
       "4        2.0           0.0       0.0       0.0      2.0     1.0          1.0   \n",
       "\n",
       "   race_AfricanAmerican  race_Asian  race_Caucasian  race_Hispanic  \\\n",
       "0                   NaN         NaN             NaN            NaN   \n",
       "1                   NaN         NaN             NaN            NaN   \n",
       "2                   1.0         0.0             0.0            0.0   \n",
       "3                   0.0         0.0             1.0            0.0   \n",
       "4                   0.0         0.0             1.0            0.0   \n",
       "\n",
       "   race_Other  admission_type_id_Elective  admission_type_id_Others  \\\n",
       "0         NaN                         NaN                       NaN   \n",
       "1         NaN                         NaN                       NaN   \n",
       "2         0.0                         0.0                       0.0   \n",
       "3         0.0                         0.0                       0.0   \n",
       "4         0.0                         0.0                       0.0   \n",
       "\n",
       "   discharge_disposition_id_Discharged  discharge_disposition_id_Others  \\\n",
       "0                                  NaN                              NaN   \n",
       "1                                  NaN                              NaN   \n",
       "2                                  1.0                              0.0   \n",
       "3                                  1.0                              0.0   \n",
       "4                                  1.0                              0.0   \n",
       "\n",
       "   discharge_disposition_id_Transfer  admission_source_id_Emergency Room  \\\n",
       "0                                NaN                                 NaN   \n",
       "1                                NaN                                 NaN   \n",
       "2                                0.0                                 1.0   \n",
       "3                                0.0                                 1.0   \n",
       "4                                0.0                                 1.0   \n",
       "\n",
       "   admission_source_id_Referral  admission_source_id_Transfer  \\\n",
       "0                           NaN                           NaN   \n",
       "1                           NaN                           NaN   \n",
       "2                           0.0                           0.0   \n",
       "3                           0.0                           0.0   \n",
       "4                           0.0                           0.0   \n",
       "\n",
       "   diag_1_Circulatory  diag_1_Diabetes  diag_1_Genitourinary  \\\n",
       "0                 NaN              NaN                   NaN   \n",
       "1                 NaN              NaN                   NaN   \n",
       "2                 0.0              0.0                   0.0   \n",
       "3                 0.0              0.0                   0.0   \n",
       "4                 0.0              0.0                   0.0   \n",
       "\n",
       "   diag_1_Musculoskeletal  diag_1_Neoplasms  diag_1_Respiratory  \\\n",
       "0                     NaN               NaN                 NaN   \n",
       "1                     NaN               NaN                 NaN   \n",
       "2                     0.0               0.0                 0.0   \n",
       "3                     0.0               0.0                 0.0   \n",
       "4                     0.0               1.0                 0.0   \n",
       "\n",
       "   diag_2_Circulatory  diag_2_Diabetes  diag_2_Digestive  diag_2_Injury  \\\n",
       "0                 NaN              NaN               NaN            NaN   \n",
       "1                 NaN              NaN               NaN            NaN   \n",
       "2                 0.0              1.0               0.0            0.0   \n",
       "3                 0.0              0.0               0.0            0.0   \n",
       "4                 0.0              0.0               0.0            0.0   \n",
       "\n",
       "   diag_2_Musculoskeletal  diag_3_Circulatory  diag_3_Diabetes  \\\n",
       "0                     NaN                 NaN              NaN   \n",
       "1                     NaN                 NaN              NaN   \n",
       "2                     0.0                 0.0              0.0   \n",
       "3                     0.0                 1.0              0.0   \n",
       "4                     0.0                 0.0              1.0   \n",
       "\n",
       "   diag_3_Genitourinary  diag_3_Injury  diag_3_Respiratory  \n",
       "0                   NaN            NaN                 NaN  \n",
       "1                   NaN            NaN                 NaN  \n",
       "2                   0.0            0.0                 0.0  \n",
       "3                   0.0            0.0                 0.0  \n",
       "4                   0.0            0.0                 0.0  "
      ]
     },
     "execution_count": 668,
     "metadata": {},
     "output_type": "execute_result"
    }
   ],
   "source": [
    "X.head()"
   ]
  },
  {
   "cell_type": "markdown",
   "metadata": {},
   "source": [
    "### Logistic Regression"
   ]
  },
  {
   "cell_type": "code",
   "execution_count": null,
   "metadata": {},
   "outputs": [],
   "source": [
    "LR = LogisticRegression(max_iter=1000)\n",
    "LR.fit(X_train,y_train)\n",
    "LR_PRED = LR.predict(X_test) #Confusion matrix & Classification Report\n",
    "LR_PRED_PROB = LR.predict_proba(X_test)[:,1] #ROC Curve\n",
    "print('\\nLogistic Regression:\\n',LR.score(X_train, y_train),LR.score(X_test, y_test))\n",
    "print('\\nConfusion Matrix: \\n',confusion_matrix(y_test,LR_PRED))\n",
    "print('\\nClassification Report: \\n',classification_report(y_test,LR_PRED))"
   ]
  },
  {
   "cell_type": "markdown",
   "metadata": {},
   "source": [
    "### Random Forest"
   ]
  },
  {
   "cell_type": "code",
   "execution_count": null,
   "metadata": {},
   "outputs": [],
   "source": [
    "RF = RandomForestClassifier(n_estimators= 1500, criterion='gini',max_depth=5,min_samples_split=4,min_samples_leaf=2,\n",
    "     min_weight_fraction_leaf=0.0,max_features='auto', max_leaf_nodes=None,min_impurity_decrease=0.0,\n",
    "     min_impurity_split=None,bootstrap=True)\n",
    "RF.fit(X_train,y_train) \n",
    "RF_PRED = RF.predict(X_test) #Confusion matrix & Classification Report\n",
    "RF_PRED_PROB = RF.predict_proba(X_test)[:,1] #ROC Curve\n",
    "print('\\nRandom Forest:\\n',RF.score(X_train, y_train),RF.score(X_test, y_test))\n",
    "print('\\nConfusion Matrix: \\n',confusion_matrix(y_test,RF_PRED))\n",
    "print('\\nClassification Report: \\n',classification_report(y_test,RF_PRED))"
   ]
  },
  {
   "cell_type": "code",
   "execution_count": null,
   "metadata": {},
   "outputs": [],
   "source": [
    "s = pd.DataFrame({\"Features\": X.columns , \"Importance\":RF.feature_importances_}, index = None).sort_values(by = 'Importance', ascending = False).head(10)"
   ]
  },
  {
   "cell_type": "code",
   "execution_count": null,
   "metadata": {},
   "outputs": [],
   "source": [
    "plt.figure(figsize =(10,6))\n",
    "sns.barplot(s['Importance'], s['Features'])\n",
    "plt.xticks(rotation = 0)\n",
    "plt.show()"
   ]
  },
  {
   "cell_type": "markdown",
   "metadata": {},
   "source": [
    "### Naive Bayes"
   ]
  },
  {
   "cell_type": "code",
   "execution_count": null,
   "metadata": {},
   "outputs": [],
   "source": [
    "NB = GaussianNB()\n",
    "NB.fit(X_train,y_train) \n",
    "NB_PRED = NB.predict(X_test) #Confusion matrix & Clssification Report\n",
    "NB_PRED_PROB = NB.predict_proba(X_test)[:,1] #ROC Curve\n",
    "print('\\n Naive Bayes:\\n',NB.score(X_train, y_train),NB.score(X_test, y_test))\n",
    "print('\\nConfusion Matrix: \\n',confusion_matrix(y_test,NB_PRED))\n",
    "print('\\nClassification Report: \\n',classification_report(y_test,NB_PRED))"
   ]
  },
  {
   "cell_type": "markdown",
   "metadata": {},
   "source": [
    "### Decision Tree"
   ]
  },
  {
   "cell_type": "code",
   "execution_count": null,
   "metadata": {},
   "outputs": [],
   "source": [
    "DT = DecisionTreeClassifier()\n",
    "DT.fit(X_train,y_train) \n",
    "DT_PRED = DT.predict(X_test) #Confusion matrix & Clssification Report\n",
    "DT_PRED_PROB = DT.predict_proba(X_test)[:,1] #ROC Curve\n",
    "print('\\nDecision Tree:\\n',DT.score(X_train, y_train),DT.score(X_test, y_test))\n",
    "print('\\nConfusion Matrix: \\n',confusion_matrix(y_test,DT_PRED))\n",
    "print('\\nClassification Report: \\n',classification_report(y_test,DT_PRED))"
   ]
  },
  {
   "cell_type": "markdown",
   "metadata": {},
   "source": [
    "### XGBoost"
   ]
  },
  {
   "cell_type": "code",
   "execution_count": null,
   "metadata": {},
   "outputs": [],
   "source": [
    "XG = XGBClassifier(gamma= 4,learning_rate=0.1,max_depth=7)\n",
    "XG.fit(X_train,y_train) \n",
    "XG_PRED = XG.predict(X_test) #Confusion matrix & Clssification Report\n",
    "XG_PRED_PROB = XG.predict_proba(X_test)[:,1] #ROC Curve\n",
    "print('\\nExtreme Gradient Boosting Classifier:\\n',XG.score(X_train, y_train),XG.score(X_test, y_test))\n",
    "print('\\nConfusion Matrix: \\n',confusion_matrix(y_test,XG_PRED))\n",
    "print('\\nClassification Report: \\n',classification_report(y_test,XG_PRED))"
   ]
  },
  {
   "cell_type": "markdown",
   "metadata": {},
   "source": [
    "### ROC Curve and ROC-AUC Score"
   ]
  },
  {
   "cell_type": "code",
   "execution_count": 96,
   "metadata": {},
   "outputs": [
    {
     "ename": "ValueError",
     "evalue": "Input contains NaN, infinity or a value too large for dtype('float64').",
     "output_type": "error",
     "traceback": [
      "\u001b[1;31m---------------------------------------------------------------------------\u001b[0m",
      "\u001b[1;31mValueError\u001b[0m                                Traceback (most recent call last)",
      "\u001b[1;32m<ipython-input-96-88fc423ff233>\u001b[0m in \u001b[0;36m<module>\u001b[1;34m\u001b[0m\n\u001b[1;32m----> 1\u001b[1;33m \u001b[0mfpr_LR\u001b[0m\u001b[1;33m,\u001b[0m \u001b[0mtpr_LR\u001b[0m\u001b[1;33m,\u001b[0m \u001b[0mth_LR\u001b[0m \u001b[1;33m=\u001b[0m \u001b[0mroc_curve\u001b[0m\u001b[1;33m(\u001b[0m\u001b[0my_test\u001b[0m\u001b[1;33m,\u001b[0m \u001b[0mLR_PRED_PROB\u001b[0m\u001b[1;33m)\u001b[0m\u001b[1;33m\u001b[0m\u001b[1;33m\u001b[0m\u001b[0m\n\u001b[0m\u001b[0;32m      2\u001b[0m \u001b[0mfpr_NB\u001b[0m\u001b[1;33m,\u001b[0m \u001b[0mtpr_NB\u001b[0m\u001b[1;33m,\u001b[0m \u001b[0mth_NB\u001b[0m \u001b[1;33m=\u001b[0m \u001b[0mroc_curve\u001b[0m\u001b[1;33m(\u001b[0m\u001b[0my_test\u001b[0m\u001b[1;33m,\u001b[0m \u001b[0mNB_PRED_PROB\u001b[0m\u001b[1;33m)\u001b[0m\u001b[1;33m\u001b[0m\u001b[1;33m\u001b[0m\u001b[0m\n\u001b[0;32m      3\u001b[0m \u001b[0mfpr_DT\u001b[0m\u001b[1;33m,\u001b[0m \u001b[0mtpr_DT\u001b[0m\u001b[1;33m,\u001b[0m \u001b[0mth_DT\u001b[0m \u001b[1;33m=\u001b[0m \u001b[0mroc_curve\u001b[0m\u001b[1;33m(\u001b[0m\u001b[0my_test\u001b[0m\u001b[1;33m,\u001b[0m \u001b[0mDT_PRED_PROB\u001b[0m\u001b[1;33m)\u001b[0m\u001b[1;33m\u001b[0m\u001b[1;33m\u001b[0m\u001b[0m\n\u001b[0;32m      4\u001b[0m \u001b[0mfpr_RF\u001b[0m\u001b[1;33m,\u001b[0m \u001b[0mtpr_RF\u001b[0m\u001b[1;33m,\u001b[0m \u001b[0mth_RF\u001b[0m \u001b[1;33m=\u001b[0m \u001b[0mroc_curve\u001b[0m\u001b[1;33m(\u001b[0m\u001b[0my_test\u001b[0m\u001b[1;33m,\u001b[0m \u001b[0mRF_PRED_PROB\u001b[0m\u001b[1;33m)\u001b[0m\u001b[1;33m\u001b[0m\u001b[1;33m\u001b[0m\u001b[0m\n\u001b[0;32m      5\u001b[0m \u001b[1;31m#fpr_ET, tpr_ET, th_ET = roc_curve(y_test, ET_PRED_PROB)\u001b[0m\u001b[1;33m\u001b[0m\u001b[1;33m\u001b[0m\u001b[1;33m\u001b[0m\u001b[0m\n",
      "\u001b[1;32m~\\AppData\\Roaming\\Python\\Python37\\site-packages\\sklearn\\utils\\validation.py\u001b[0m in \u001b[0;36minner_f\u001b[1;34m(*args, **kwargs)\u001b[0m\n\u001b[0;32m     61\u001b[0m             \u001b[0mextra_args\u001b[0m \u001b[1;33m=\u001b[0m \u001b[0mlen\u001b[0m\u001b[1;33m(\u001b[0m\u001b[0margs\u001b[0m\u001b[1;33m)\u001b[0m \u001b[1;33m-\u001b[0m \u001b[0mlen\u001b[0m\u001b[1;33m(\u001b[0m\u001b[0mall_args\u001b[0m\u001b[1;33m)\u001b[0m\u001b[1;33m\u001b[0m\u001b[1;33m\u001b[0m\u001b[0m\n\u001b[0;32m     62\u001b[0m             \u001b[1;32mif\u001b[0m \u001b[0mextra_args\u001b[0m \u001b[1;33m<=\u001b[0m \u001b[1;36m0\u001b[0m\u001b[1;33m:\u001b[0m\u001b[1;33m\u001b[0m\u001b[1;33m\u001b[0m\u001b[0m\n\u001b[1;32m---> 63\u001b[1;33m                 \u001b[1;32mreturn\u001b[0m \u001b[0mf\u001b[0m\u001b[1;33m(\u001b[0m\u001b[1;33m*\u001b[0m\u001b[0margs\u001b[0m\u001b[1;33m,\u001b[0m \u001b[1;33m**\u001b[0m\u001b[0mkwargs\u001b[0m\u001b[1;33m)\u001b[0m\u001b[1;33m\u001b[0m\u001b[1;33m\u001b[0m\u001b[0m\n\u001b[0m\u001b[0;32m     64\u001b[0m \u001b[1;33m\u001b[0m\u001b[0m\n\u001b[0;32m     65\u001b[0m             \u001b[1;31m# extra_args > 0\u001b[0m\u001b[1;33m\u001b[0m\u001b[1;33m\u001b[0m\u001b[1;33m\u001b[0m\u001b[0m\n",
      "\u001b[1;32m~\\AppData\\Roaming\\Python\\Python37\\site-packages\\sklearn\\metrics\\_ranking.py\u001b[0m in \u001b[0;36mroc_curve\u001b[1;34m(y_true, y_score, pos_label, sample_weight, drop_intermediate)\u001b[0m\n\u001b[0;32m    912\u001b[0m     \"\"\"\n\u001b[0;32m    913\u001b[0m     fps, tps, thresholds = _binary_clf_curve(\n\u001b[1;32m--> 914\u001b[1;33m         y_true, y_score, pos_label=pos_label, sample_weight=sample_weight)\n\u001b[0m\u001b[0;32m    915\u001b[0m \u001b[1;33m\u001b[0m\u001b[0m\n\u001b[0;32m    916\u001b[0m     \u001b[1;31m# Attempt to drop thresholds corresponding to points in between and\u001b[0m\u001b[1;33m\u001b[0m\u001b[1;33m\u001b[0m\u001b[1;33m\u001b[0m\u001b[0m\n",
      "\u001b[1;32m~\\AppData\\Roaming\\Python\\Python37\\site-packages\\sklearn\\metrics\\_ranking.py\u001b[0m in \u001b[0;36m_binary_clf_curve\u001b[1;34m(y_true, y_score, pos_label, sample_weight)\u001b[0m\n\u001b[0;32m    686\u001b[0m     \"\"\"\n\u001b[0;32m    687\u001b[0m     \u001b[1;31m# Check to make sure y_true is valid\u001b[0m\u001b[1;33m\u001b[0m\u001b[1;33m\u001b[0m\u001b[1;33m\u001b[0m\u001b[0m\n\u001b[1;32m--> 688\u001b[1;33m     \u001b[0my_type\u001b[0m \u001b[1;33m=\u001b[0m \u001b[0mtype_of_target\u001b[0m\u001b[1;33m(\u001b[0m\u001b[0my_true\u001b[0m\u001b[1;33m)\u001b[0m\u001b[1;33m\u001b[0m\u001b[1;33m\u001b[0m\u001b[0m\n\u001b[0m\u001b[0;32m    689\u001b[0m     if not (y_type == \"binary\" or\n\u001b[0;32m    690\u001b[0m             (y_type == \"multiclass\" and pos_label is not None)):\n",
      "\u001b[1;32m~\\AppData\\Roaming\\Python\\Python37\\site-packages\\sklearn\\utils\\multiclass.py\u001b[0m in \u001b[0;36mtype_of_target\u001b[1;34m(y)\u001b[0m\n\u001b[0;32m    301\u001b[0m     \u001b[1;32mif\u001b[0m \u001b[0my\u001b[0m\u001b[1;33m.\u001b[0m\u001b[0mdtype\u001b[0m\u001b[1;33m.\u001b[0m\u001b[0mkind\u001b[0m \u001b[1;33m==\u001b[0m \u001b[1;34m'f'\u001b[0m \u001b[1;32mand\u001b[0m \u001b[0mnp\u001b[0m\u001b[1;33m.\u001b[0m\u001b[0many\u001b[0m\u001b[1;33m(\u001b[0m\u001b[0my\u001b[0m \u001b[1;33m!=\u001b[0m \u001b[0my\u001b[0m\u001b[1;33m.\u001b[0m\u001b[0mastype\u001b[0m\u001b[1;33m(\u001b[0m\u001b[0mint\u001b[0m\u001b[1;33m)\u001b[0m\u001b[1;33m)\u001b[0m\u001b[1;33m:\u001b[0m\u001b[1;33m\u001b[0m\u001b[1;33m\u001b[0m\u001b[0m\n\u001b[0;32m    302\u001b[0m         \u001b[1;31m# [.1, .2, 3] or [[.1, .2, 3]] or [[1., .2]] and not [1., 2., 3.]\u001b[0m\u001b[1;33m\u001b[0m\u001b[1;33m\u001b[0m\u001b[1;33m\u001b[0m\u001b[0m\n\u001b[1;32m--> 303\u001b[1;33m         \u001b[0m_assert_all_finite\u001b[0m\u001b[1;33m(\u001b[0m\u001b[0my\u001b[0m\u001b[1;33m)\u001b[0m\u001b[1;33m\u001b[0m\u001b[1;33m\u001b[0m\u001b[0m\n\u001b[0m\u001b[0;32m    304\u001b[0m         \u001b[1;32mreturn\u001b[0m \u001b[1;34m'continuous'\u001b[0m \u001b[1;33m+\u001b[0m \u001b[0msuffix\u001b[0m\u001b[1;33m\u001b[0m\u001b[1;33m\u001b[0m\u001b[0m\n\u001b[0;32m    305\u001b[0m \u001b[1;33m\u001b[0m\u001b[0m\n",
      "\u001b[1;32m~\\AppData\\Roaming\\Python\\Python37\\site-packages\\sklearn\\utils\\validation.py\u001b[0m in \u001b[0;36m_assert_all_finite\u001b[1;34m(X, allow_nan, msg_dtype)\u001b[0m\n\u001b[0;32m    104\u001b[0m                     \u001b[0mmsg_err\u001b[0m\u001b[1;33m.\u001b[0m\u001b[0mformat\u001b[0m\u001b[1;33m\u001b[0m\u001b[1;33m\u001b[0m\u001b[0m\n\u001b[0;32m    105\u001b[0m                     (type_err,\n\u001b[1;32m--> 106\u001b[1;33m                      msg_dtype if msg_dtype is not None else X.dtype)\n\u001b[0m\u001b[0;32m    107\u001b[0m             )\n\u001b[0;32m    108\u001b[0m     \u001b[1;31m# for object dtype data, we only check for NaNs (GH-13254)\u001b[0m\u001b[1;33m\u001b[0m\u001b[1;33m\u001b[0m\u001b[1;33m\u001b[0m\u001b[0m\n",
      "\u001b[1;31mValueError\u001b[0m: Input contains NaN, infinity or a value too large for dtype('float64')."
     ]
    }
   ],
   "source": [
    "fpr_LR, tpr_LR, th_LR = roc_curve(y_test, LR_PRED_PROB)\n",
    "fpr_NB, tpr_NB, th_NB = roc_curve(y_test, NB_PRED_PROB)\n",
    "fpr_DT, tpr_DT, th_DT = roc_curve(y_test, DT_PRED_PROB)\n",
    "fpr_RF, tpr_RF, th_RF = roc_curve(y_test, RF_PRED_PROB)\n",
    "#fpr_ET, tpr_ET, th_ET = roc_curve(y_test, ET_PRED_PROB)\n",
    "#fpr_BG, tpr_BG, th_BG = roc_curve(y_test, BG_PRED_PROB)\n",
    "#fpr_ABC, tpr_ABC, th_ABC = roc_curve(y_test, ABC_PRED_PROB)\n",
    "#fpr_GB, tpr_GB, th_GB = roc_curve(y_test, GB_PRED_PROB)\n",
    "fpr_XG, tpr_XG, th_XG = roc_curve(y_test, XG_PRED_PROB)\n",
    "#fpr_rf, tpr_rf, th_rf = roc_curve(y_test, RF_PRED_PROB1)\n",
    "#fpr_xg, tpr_xg, th_xg = roc_curve(y_test, XG_PRED_PROB12)\n",
    "\n",
    "plt.figure(figsize=(12,6))\n",
    "plt.plot(fpr_LR, tpr_LR,label = 'Logistic Regression')\n",
    "plt.plot(fpr_NB, tpr_NB,label = 'Naive Bayes')\n",
    "plt.plot(fpr_DT, tpr_DT,label = 'Decision Tree')\n",
    "plt.plot(fpr_RF, tpr_RF,label = 'Random Forest')\n",
    "plt.plot(fpr_XG, tpr_XG,label = 'XG Boost')\n",
    "#plt.plot(fpr_rf, tpr_rf,label = 'Tuned Rf')\n",
    "#plt.plot(fpr_xg, tpr_xg,label = 'XG Boost Tuned')\n",
    "\n",
    "\n",
    "plt.plot([0,1],'k--')\n",
    "plt.xlabel('1-Specificity')\n",
    "plt.ylabel('Sensitivity')\n",
    "plt.title('ROC Curve')\n",
    "plt.legend()\n",
    "plt.show()\n",
    "print('Logistic Regression: ',roc_auc_score(y_test,NB_PRED_PROB))\n",
    "print('Naive Bayes        : ',roc_auc_score(y_test,RF_PRED_PROB))\n",
    "print('Decision Tree      : ',roc_auc_score(y_test,DT_PRED_PROB))\n",
    "print('Random Forest      : ',roc_auc_score(y_test,LR_PRED_PROB))\n",
    "#print('Extra Tree         : ',roc_auc_score(y_test,LR_PRED_PROB))\n",
    "#print('Bagging            : ',roc_auc_score(y_test,BG_PRED_PROB))\n",
    "#print('Adaboost           : ',roc_auc_score(y_test,ABC_PRED_PROB))\n",
    "#print('Gradient Boost     : ',roc_auc_score(y_test,GB_PRED_PROB))\n",
    "print('XG Boost           : ',roc_auc_score(y_test,XG_PRED_PROB))\n",
    "#print('RF tuned Boost     : ',roc_auc_score(y_test,RF_PRED_PROB1))\n",
    "#print('XG tuned Boost     : ',roc_auc_score(y_test,XG_PRED_PROB12))"
   ]
  },
  {
   "cell_type": "code",
   "execution_count": null,
   "metadata": {},
   "outputs": [],
   "source": []
  },
  {
   "cell_type": "code",
   "execution_count": null,
   "metadata": {},
   "outputs": [],
   "source": []
  }
 ],
 "metadata": {
  "kernelspec": {
   "display_name": "Python 3",
   "language": "python",
   "name": "python3"
  },
  "language_info": {
   "codemirror_mode": {
    "name": "ipython",
    "version": 3
   },
   "file_extension": ".py",
   "mimetype": "text/x-python",
   "name": "python",
   "nbconvert_exporter": "python",
   "pygments_lexer": "ipython3",
   "version": "3.7.4"
  }
 },
 "nbformat": 4,
 "nbformat_minor": 2
}
