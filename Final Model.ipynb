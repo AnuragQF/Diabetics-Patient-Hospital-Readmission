{
 "cells": [
  {
   "cell_type": "markdown",
   "metadata": {},
   "source": [
    "## Data Set Description\n",
    "* **Encounter ID**\tUnique identifier of an encounter\n",
    "* **Patient number**\tUnique identifier of a patient\n",
    "* **Race**\tValues: Caucasian, Asian, African American, Hispanic, and other\n",
    "* **Gender**\tValues: male, female, and unknown/invalid\n",
    "* **Age**\tGrouped in 10-year intervals: 0, 10), 10, 20), …, 90, 100)\n",
    "* **Weight**\tWeight in pounds\n",
    "* **Admission type**\tInteger identifier corresponding to 9 distinct values, for example, emergency, urgent, elective, newborn, and not available\n",
    "* **Discharge disposition**\tInteger identifier corresponding to 29 distinct values, for example, discharged to home, expired, and not available\n",
    "* **Admission source**\tInteger identifier corresponding to 21 distinct values, for example, physician referral, emergency room, and transfer from a hospital\n",
    "* **Time in hospital**\tInteger number of days between admission and discharge\n",
    "* **Payer code**\tInteger identifier corresponding to 23 distinct values, for example, Blue Cross/Blue Shield, Medicare, and self-pay Medical\n",
    "* **Medical specialty**\tInteger identifier of a specialty of the admitting physician, corresponding to 84 distinct values, for example, cardiology, internal medicine, family/general practice, and surgeon\n",
    "* **Number of lab procedures**\tNumber of lab tests performed during the encounter\n",
    "* **Number of procedures** Numeric\tNumber of procedures (other than lab tests) performed during the encounter\n",
    "* **Number of medications**\tNumber of distinct generic names administered during the encounter\n",
    "* **Number of outpatient visits** Number of outpatient visits of the patient in the year preceding the encounter\n",
    "* **Number of emergency visits**\tNumber of emergency visits of the patient in the year preceding the encounter\n",
    "* **Number of inpatient visits**\tNumber of inpatient visits of the patient in the year preceding the encounter\n",
    "* **Diagnosis 1**\tThe primary diagnosis (coded as first three digits of ICD9); 848 distinct values\n",
    "* **Diagnosis 2**\tSecondary diagnosis (coded as first three digits of ICD9); 923 distinct values\n",
    "* **Diagnosis 3** Additional secondary diagnosis (coded as first three digits of ICD9); 954 distinct values\n",
    "* **Number of diagnoses**\tNumber of diagnoses entered to the system 0%\n",
    "* **Glucose serum test result**\tIndicates the range of the result or if the test was not taken. Values: “>200,” “>300,” “normal,” and “none” if not measured\n",
    "* **A1c test result**\tIndicates the range of the result or if the test was not taken. Values: “>8” if the result was greater than 8%, “>7” if the result was greater than 7% but less than 8%, “normal” if the result was less than 7%, and “none” if not measured.\n",
    "* **Change of medications**\tIndicates if there was a change in diabetic medications (either dosage or generic name). Values: “change” and “no change”\n",
    "* **Diabetes medications**\tIndicates if there was any diabetic medication prescribed. Values: “yes” and “no”\n",
    "* 24 features for medications\tFor the generic names: **metformin, repaglinide, nateglinide, chlorpropamide, glimepiride, acetohexamide, glipizide, glyburide, tolbutamide, pioglitazone, rosiglitazone, acarbose, miglitol, troglitazone, tolazamide, examide, sitagliptin, insulin, glyburide-metformin, glipizide-metformin, glimepiride- pioglitazone, metformin-rosiglitazone, and metformin- pioglitazone**, the feature indicates whether the drug was prescribed or there was a change in the dosage. Values: “up” if the dosage was increased during the encounter, “down” if the dosage was decreased, “steady” if the dosage did not change, and “no” if the drug was not prescribed\n",
    "* **Readmitted**\tDays to inpatient readmission. Values: “<30” if the patient was readmitted in less than 30 days, “>30” if the patient was readmitted in more than 30 days, and “No” for no record of readmission"
   ]
  },
  {
   "cell_type": "code",
   "execution_count": 29,
   "metadata": {},
   "outputs": [],
   "source": [
    "import numpy as np\n",
    "import matplotlib.pyplot as plt\n",
    "import pandas as pd\n",
    "import seaborn as sns\n",
    "import statsmodels.api as sm\n",
    "from sklearn.model_selection import train_test_split\n",
    "# to suppress warnings \n",
    "from warnings import filterwarnings\n",
    "filterwarnings('ignore')\n",
    "# importing sklearn Models\n",
    "from sklearn.tree import DecisionTreeClassifier\n",
    "from sklearn.ensemble import ExtraTreesClassifier\n",
    "from sklearn.ensemble import RandomForestClassifier\n",
    "import xgboost\n",
    "from sklearn.ensemble import VotingRegressor\n",
    "from sklearn.ensemble import AdaBoostClassifier\n",
    "from sklearn.ensemble import GradientBoostingClassifier\n",
    "from sklearn.neighbors import KNeighborsClassifier\n",
    "from sklearn.linear_model import LogisticRegression\n",
    "from catboost import CatBoostClassifier\n",
    "from lightgbm import LGBMClassifier\n",
    "import scikitplot as skplt\n",
    "#Evalution Metrix\n",
    "from sklearn.metrics import roc_curve,roc_auc_score\n",
    "from sklearn.model_selection import cross_validate\n",
    "from sklearn.metrics import precision_score, recall_score, f1_score, accuracy_score,classification_report, roc_curve, confusion_matrix"
   ]
  },
  {
   "cell_type": "code",
   "execution_count": 30,
   "metadata": {},
   "outputs": [
    {
     "data": {
      "text/html": [
       "<div>\n",
       "<style scoped>\n",
       "    .dataframe tbody tr th:only-of-type {\n",
       "        vertical-align: middle;\n",
       "    }\n",
       "\n",
       "    .dataframe tbody tr th {\n",
       "        vertical-align: top;\n",
       "    }\n",
       "\n",
       "    .dataframe thead th {\n",
       "        text-align: right;\n",
       "    }\n",
       "</style>\n",
       "<table border=\"1\" class=\"dataframe\">\n",
       "  <thead>\n",
       "    <tr style=\"text-align: right;\">\n",
       "      <th></th>\n",
       "      <th>age</th>\n",
       "      <th>time_in_hospital</th>\n",
       "      <th>num_lab_procedures</th>\n",
       "      <th>num_procedures</th>\n",
       "      <th>num_medications</th>\n",
       "      <th>number_outpatient</th>\n",
       "      <th>number_emergency</th>\n",
       "      <th>number_inpatient</th>\n",
       "      <th>No_of_Visit</th>\n",
       "      <th>gender</th>\n",
       "      <th>max_glu_serum</th>\n",
       "      <th>A1Cresult</th>\n",
       "      <th>metformin</th>\n",
       "      <th>repaglinide</th>\n",
       "      <th>glipizide</th>\n",
       "      <th>pioglitazone</th>\n",
       "      <th>acarbose</th>\n",
       "      <th>miglitol</th>\n",
       "      <th>insulin</th>\n",
       "      <th>change</th>\n",
       "      <th>diabetesMed</th>\n",
       "      <th>race_AfricanAmerican</th>\n",
       "      <th>race_Asian</th>\n",
       "      <th>race_Caucasian</th>\n",
       "      <th>race_Hispanic</th>\n",
       "      <th>race_Other</th>\n",
       "      <th>admission_type_id_Elective</th>\n",
       "      <th>admission_type_id_Others</th>\n",
       "      <th>discharge_disposition_id_Discharged</th>\n",
       "      <th>discharge_disposition_id_Others</th>\n",
       "      <th>discharge_disposition_id_Transfer</th>\n",
       "      <th>admission_source_id_Emergency Room</th>\n",
       "      <th>admission_source_id_Referral</th>\n",
       "      <th>admission_source_id_Transfer</th>\n",
       "      <th>diag_1_Circulatory</th>\n",
       "      <th>diag_1_Diabetes</th>\n",
       "      <th>diag_1_Genitourinary</th>\n",
       "      <th>diag_1_Musculoskeletal</th>\n",
       "      <th>diag_1_Neoplasms</th>\n",
       "      <th>diag_1_Respiratory</th>\n",
       "      <th>diag_2_Circulatory</th>\n",
       "      <th>diag_2_Diabetes</th>\n",
       "      <th>diag_2_Digestive</th>\n",
       "      <th>diag_2_Injury</th>\n",
       "      <th>diag_2_Musculoskeletal</th>\n",
       "      <th>diag_3_Circulatory</th>\n",
       "      <th>diag_3_Diabetes</th>\n",
       "      <th>diag_3_Genitourinary</th>\n",
       "      <th>diag_3_Injury</th>\n",
       "      <th>diag_3_Respiratory</th>\n",
       "      <th>readmitted</th>\n",
       "    </tr>\n",
       "  </thead>\n",
       "  <tbody>\n",
       "    <tr>\n",
       "      <td>0</td>\n",
       "      <td>0.000000</td>\n",
       "      <td>0.262650</td>\n",
       "      <td>0.105263</td>\n",
       "      <td>0.912871</td>\n",
       "      <td>0.137931</td>\n",
       "      <td>0.0</td>\n",
       "      <td>0.931709</td>\n",
       "      <td>0.230769</td>\n",
       "      <td>1</td>\n",
       "      <td>1</td>\n",
       "      <td>0.0</td>\n",
       "      <td>0.0</td>\n",
       "      <td>0.0</td>\n",
       "      <td>0.0</td>\n",
       "      <td>2.0</td>\n",
       "      <td>0.0</td>\n",
       "      <td>0.0</td>\n",
       "      <td>0.0</td>\n",
       "      <td>0.0</td>\n",
       "      <td>0</td>\n",
       "      <td>1</td>\n",
       "      <td>1</td>\n",
       "      <td>0</td>\n",
       "      <td>0</td>\n",
       "      <td>0</td>\n",
       "      <td>0</td>\n",
       "      <td>0</td>\n",
       "      <td>0</td>\n",
       "      <td>1</td>\n",
       "      <td>0</td>\n",
       "      <td>0</td>\n",
       "      <td>1</td>\n",
       "      <td>0</td>\n",
       "      <td>0</td>\n",
       "      <td>0</td>\n",
       "      <td>0</td>\n",
       "      <td>0</td>\n",
       "      <td>0</td>\n",
       "      <td>0</td>\n",
       "      <td>0</td>\n",
       "      <td>0</td>\n",
       "      <td>1</td>\n",
       "      <td>0</td>\n",
       "      <td>0</td>\n",
       "      <td>0</td>\n",
       "      <td>0</td>\n",
       "      <td>0</td>\n",
       "      <td>0</td>\n",
       "      <td>0</td>\n",
       "      <td>0</td>\n",
       "      <td>0</td>\n",
       "    </tr>\n",
       "    <tr>\n",
       "      <td>1</td>\n",
       "      <td>0.142857</td>\n",
       "      <td>0.262650</td>\n",
       "      <td>0.452632</td>\n",
       "      <td>0.408248</td>\n",
       "      <td>0.000000</td>\n",
       "      <td>0.0</td>\n",
       "      <td>0.000000</td>\n",
       "      <td>0.288462</td>\n",
       "      <td>1</td>\n",
       "      <td>0</td>\n",
       "      <td>0.0</td>\n",
       "      <td>0.0</td>\n",
       "      <td>0.0</td>\n",
       "      <td>0.0</td>\n",
       "      <td>0.0</td>\n",
       "      <td>0.0</td>\n",
       "      <td>0.0</td>\n",
       "      <td>0.0</td>\n",
       "      <td>3.0</td>\n",
       "      <td>1</td>\n",
       "      <td>1</td>\n",
       "      <td>0</td>\n",
       "      <td>0</td>\n",
       "      <td>1</td>\n",
       "      <td>0</td>\n",
       "      <td>0</td>\n",
       "      <td>0</td>\n",
       "      <td>0</td>\n",
       "      <td>1</td>\n",
       "      <td>0</td>\n",
       "      <td>0</td>\n",
       "      <td>1</td>\n",
       "      <td>0</td>\n",
       "      <td>0</td>\n",
       "      <td>0</td>\n",
       "      <td>0</td>\n",
       "      <td>0</td>\n",
       "      <td>0</td>\n",
       "      <td>0</td>\n",
       "      <td>0</td>\n",
       "      <td>0</td>\n",
       "      <td>0</td>\n",
       "      <td>0</td>\n",
       "      <td>0</td>\n",
       "      <td>0</td>\n",
       "      <td>1</td>\n",
       "      <td>0</td>\n",
       "      <td>0</td>\n",
       "      <td>0</td>\n",
       "      <td>0</td>\n",
       "      <td>0</td>\n",
       "    </tr>\n",
       "    <tr>\n",
       "      <td>2</td>\n",
       "      <td>0.285714</td>\n",
       "      <td>0.000000</td>\n",
       "      <td>0.526316</td>\n",
       "      <td>0.000000</td>\n",
       "      <td>0.000000</td>\n",
       "      <td>0.0</td>\n",
       "      <td>0.000000</td>\n",
       "      <td>0.134615</td>\n",
       "      <td>1</td>\n",
       "      <td>0</td>\n",
       "      <td>0.0</td>\n",
       "      <td>0.0</td>\n",
       "      <td>0.0</td>\n",
       "      <td>0.0</td>\n",
       "      <td>2.0</td>\n",
       "      <td>0.0</td>\n",
       "      <td>0.0</td>\n",
       "      <td>0.0</td>\n",
       "      <td>2.0</td>\n",
       "      <td>1</td>\n",
       "      <td>1</td>\n",
       "      <td>0</td>\n",
       "      <td>0</td>\n",
       "      <td>1</td>\n",
       "      <td>0</td>\n",
       "      <td>0</td>\n",
       "      <td>0</td>\n",
       "      <td>0</td>\n",
       "      <td>1</td>\n",
       "      <td>0</td>\n",
       "      <td>0</td>\n",
       "      <td>1</td>\n",
       "      <td>0</td>\n",
       "      <td>0</td>\n",
       "      <td>0</td>\n",
       "      <td>0</td>\n",
       "      <td>0</td>\n",
       "      <td>0</td>\n",
       "      <td>1</td>\n",
       "      <td>0</td>\n",
       "      <td>0</td>\n",
       "      <td>0</td>\n",
       "      <td>0</td>\n",
       "      <td>0</td>\n",
       "      <td>0</td>\n",
       "      <td>0</td>\n",
       "      <td>1</td>\n",
       "      <td>0</td>\n",
       "      <td>0</td>\n",
       "      <td>0</td>\n",
       "      <td>0</td>\n",
       "    </tr>\n",
       "    <tr>\n",
       "      <td>3</td>\n",
       "      <td>0.428571</td>\n",
       "      <td>0.416290</td>\n",
       "      <td>0.315789</td>\n",
       "      <td>1.000000</td>\n",
       "      <td>0.000000</td>\n",
       "      <td>0.0</td>\n",
       "      <td>0.000000</td>\n",
       "      <td>0.288462</td>\n",
       "      <td>1</td>\n",
       "      <td>0</td>\n",
       "      <td>0.0</td>\n",
       "      <td>0.0</td>\n",
       "      <td>0.0</td>\n",
       "      <td>0.0</td>\n",
       "      <td>0.0</td>\n",
       "      <td>0.0</td>\n",
       "      <td>0.0</td>\n",
       "      <td>0.0</td>\n",
       "      <td>2.0</td>\n",
       "      <td>0</td>\n",
       "      <td>1</td>\n",
       "      <td>0</td>\n",
       "      <td>0</td>\n",
       "      <td>1</td>\n",
       "      <td>0</td>\n",
       "      <td>0</td>\n",
       "      <td>0</td>\n",
       "      <td>0</td>\n",
       "      <td>1</td>\n",
       "      <td>0</td>\n",
       "      <td>0</td>\n",
       "      <td>0</td>\n",
       "      <td>1</td>\n",
       "      <td>0</td>\n",
       "      <td>1</td>\n",
       "      <td>0</td>\n",
       "      <td>0</td>\n",
       "      <td>0</td>\n",
       "      <td>0</td>\n",
       "      <td>0</td>\n",
       "      <td>1</td>\n",
       "      <td>0</td>\n",
       "      <td>0</td>\n",
       "      <td>0</td>\n",
       "      <td>0</td>\n",
       "      <td>0</td>\n",
       "      <td>1</td>\n",
       "      <td>0</td>\n",
       "      <td>0</td>\n",
       "      <td>0</td>\n",
       "      <td>1</td>\n",
       "    </tr>\n",
       "    <tr>\n",
       "      <td>4</td>\n",
       "      <td>0.571429</td>\n",
       "      <td>0.525299</td>\n",
       "      <td>0.726316</td>\n",
       "      <td>0.408248</td>\n",
       "      <td>0.000000</td>\n",
       "      <td>0.0</td>\n",
       "      <td>0.000000</td>\n",
       "      <td>0.384615</td>\n",
       "      <td>1</td>\n",
       "      <td>0</td>\n",
       "      <td>0.0</td>\n",
       "      <td>0.0</td>\n",
       "      <td>2.0</td>\n",
       "      <td>0.0</td>\n",
       "      <td>0.0</td>\n",
       "      <td>0.0</td>\n",
       "      <td>0.0</td>\n",
       "      <td>0.0</td>\n",
       "      <td>2.0</td>\n",
       "      <td>1</td>\n",
       "      <td>1</td>\n",
       "      <td>0</td>\n",
       "      <td>0</td>\n",
       "      <td>1</td>\n",
       "      <td>0</td>\n",
       "      <td>0</td>\n",
       "      <td>1</td>\n",
       "      <td>0</td>\n",
       "      <td>1</td>\n",
       "      <td>0</td>\n",
       "      <td>0</td>\n",
       "      <td>0</td>\n",
       "      <td>1</td>\n",
       "      <td>0</td>\n",
       "      <td>1</td>\n",
       "      <td>0</td>\n",
       "      <td>0</td>\n",
       "      <td>0</td>\n",
       "      <td>0</td>\n",
       "      <td>0</td>\n",
       "      <td>1</td>\n",
       "      <td>0</td>\n",
       "      <td>0</td>\n",
       "      <td>0</td>\n",
       "      <td>0</td>\n",
       "      <td>0</td>\n",
       "      <td>0</td>\n",
       "      <td>0</td>\n",
       "      <td>0</td>\n",
       "      <td>0</td>\n",
       "      <td>0</td>\n",
       "    </tr>\n",
       "  </tbody>\n",
       "</table>\n",
       "</div>"
      ],
      "text/plain": [
       "        age  time_in_hospital  num_lab_procedures  num_procedures  \\\n",
       "0  0.000000          0.262650            0.105263        0.912871   \n",
       "1  0.142857          0.262650            0.452632        0.408248   \n",
       "2  0.285714          0.000000            0.526316        0.000000   \n",
       "3  0.428571          0.416290            0.315789        1.000000   \n",
       "4  0.571429          0.525299            0.726316        0.408248   \n",
       "\n",
       "   num_medications  number_outpatient  number_emergency  number_inpatient  \\\n",
       "0         0.137931                0.0          0.931709          0.230769   \n",
       "1         0.000000                0.0          0.000000          0.288462   \n",
       "2         0.000000                0.0          0.000000          0.134615   \n",
       "3         0.000000                0.0          0.000000          0.288462   \n",
       "4         0.000000                0.0          0.000000          0.384615   \n",
       "\n",
       "   No_of_Visit  gender  max_glu_serum  A1Cresult  metformin  repaglinide  \\\n",
       "0            1       1            0.0        0.0        0.0          0.0   \n",
       "1            1       0            0.0        0.0        0.0          0.0   \n",
       "2            1       0            0.0        0.0        0.0          0.0   \n",
       "3            1       0            0.0        0.0        0.0          0.0   \n",
       "4            1       0            0.0        0.0        2.0          0.0   \n",
       "\n",
       "   glipizide  pioglitazone  acarbose  miglitol  insulin  change  diabetesMed  \\\n",
       "0        2.0           0.0       0.0       0.0      0.0       0            1   \n",
       "1        0.0           0.0       0.0       0.0      3.0       1            1   \n",
       "2        2.0           0.0       0.0       0.0      2.0       1            1   \n",
       "3        0.0           0.0       0.0       0.0      2.0       0            1   \n",
       "4        0.0           0.0       0.0       0.0      2.0       1            1   \n",
       "\n",
       "   race_AfricanAmerican  race_Asian  race_Caucasian  race_Hispanic  \\\n",
       "0                     1           0               0              0   \n",
       "1                     0           0               1              0   \n",
       "2                     0           0               1              0   \n",
       "3                     0           0               1              0   \n",
       "4                     0           0               1              0   \n",
       "\n",
       "   race_Other  admission_type_id_Elective  admission_type_id_Others  \\\n",
       "0           0                           0                         0   \n",
       "1           0                           0                         0   \n",
       "2           0                           0                         0   \n",
       "3           0                           0                         0   \n",
       "4           0                           1                         0   \n",
       "\n",
       "   discharge_disposition_id_Discharged  discharge_disposition_id_Others  \\\n",
       "0                                    1                                0   \n",
       "1                                    1                                0   \n",
       "2                                    1                                0   \n",
       "3                                    1                                0   \n",
       "4                                    1                                0   \n",
       "\n",
       "   discharge_disposition_id_Transfer  admission_source_id_Emergency Room  \\\n",
       "0                                  0                                   1   \n",
       "1                                  0                                   1   \n",
       "2                                  0                                   1   \n",
       "3                                  0                                   0   \n",
       "4                                  0                                   0   \n",
       "\n",
       "   admission_source_id_Referral  admission_source_id_Transfer  \\\n",
       "0                             0                             0   \n",
       "1                             0                             0   \n",
       "2                             0                             0   \n",
       "3                             1                             0   \n",
       "4                             1                             0   \n",
       "\n",
       "   diag_1_Circulatory  diag_1_Diabetes  diag_1_Genitourinary  \\\n",
       "0                   0                0                     0   \n",
       "1                   0                0                     0   \n",
       "2                   0                0                     0   \n",
       "3                   1                0                     0   \n",
       "4                   1                0                     0   \n",
       "\n",
       "   diag_1_Musculoskeletal  diag_1_Neoplasms  diag_1_Respiratory  \\\n",
       "0                       0                 0                   0   \n",
       "1                       0                 0                   0   \n",
       "2                       0                 1                   0   \n",
       "3                       0                 0                   0   \n",
       "4                       0                 0                   0   \n",
       "\n",
       "   diag_2_Circulatory  diag_2_Diabetes  diag_2_Digestive  diag_2_Injury  \\\n",
       "0                   0                1                 0              0   \n",
       "1                   0                0                 0              0   \n",
       "2                   0                0                 0              0   \n",
       "3                   1                0                 0              0   \n",
       "4                   1                0                 0              0   \n",
       "\n",
       "   diag_2_Musculoskeletal  diag_3_Circulatory  diag_3_Diabetes  \\\n",
       "0                       0                   0                0   \n",
       "1                       0                   1                0   \n",
       "2                       0                   0                1   \n",
       "3                       0                   0                1   \n",
       "4                       0                   0                0   \n",
       "\n",
       "   diag_3_Genitourinary  diag_3_Injury  diag_3_Respiratory  readmitted  \n",
       "0                     0              0                   0           0  \n",
       "1                     0              0                   0           0  \n",
       "2                     0              0                   0           0  \n",
       "3                     0              0                   0           1  \n",
       "4                     0              0                   0           0  "
      ]
     },
     "execution_count": 30,
     "metadata": {},
     "output_type": "execute_result"
    }
   ],
   "source": [
    "df = pd.read_csv(\"C:/Users/91899/Desktop/Project 2/Feature_Selection.csv\")\n",
    "pd.set_option('display.max_columns', None)\n",
    "df.head()"
   ]
  },
  {
   "cell_type": "code",
   "execution_count": 31,
   "metadata": {},
   "outputs": [],
   "source": [
    "X = df.drop('readmitted', axis = 1)\n",
    "y = df['readmitted']"
   ]
  },
  {
   "cell_type": "code",
   "execution_count": 32,
   "metadata": {},
   "outputs": [],
   "source": [
    "X_train, X_test, y_train, y_test = train_test_split(X, y, test_size = 0.3, random_state = 49)"
   ]
  },
  {
   "cell_type": "markdown",
   "metadata": {},
   "source": [
    "### Logistic Regression"
   ]
  },
  {
   "cell_type": "code",
   "execution_count": 5,
   "metadata": {},
   "outputs": [
    {
     "name": "stdout",
     "output_type": "stream",
     "text": [
      "\n",
      "Logistic Regression:\n",
      " 0.8314108616230861 0.8317130405631914\n",
      "\n",
      "Confusion Matrix: \n",
      " [[12033   392]\n",
      " [ 3122  5334]]\n",
      "\n",
      "Classification Report: \n",
      "               precision    recall  f1-score   support\n",
      "\n",
      "           0       0.79      0.97      0.87     12425\n",
      "           1       0.93      0.63      0.75      8456\n",
      "\n",
      "    accuracy                           0.83     20881\n",
      "   macro avg       0.86      0.80      0.81     20881\n",
      "weighted avg       0.85      0.83      0.82     20881\n",
      "\n"
     ]
    }
   ],
   "source": [
    "LR = LogisticRegression(max_iter=1000)\n",
    "LR.fit(X_train,y_train)\n",
    "LR_PRED = LR.predict(X_test) #Confusion matrix & Classification Report\n",
    "LR_PRED_PROB = LR.predict_proba(X_test)[:,1] #ROC Curve\n",
    "print('\\nLogistic Regression:\\n',LR.score(X_train, y_train),LR.score(X_test, y_test))\n",
    "print('\\nConfusion Matrix: \\n',confusion_matrix(y_test,LR_PRED))\n",
    "print('\\nClassification Report: \\n',classification_report(y_test,LR_PRED))"
   ]
  },
  {
   "cell_type": "markdown",
   "metadata": {},
   "source": [
    "### Random Forest"
   ]
  },
  {
   "cell_type": "code",
   "execution_count": 33,
   "metadata": {},
   "outputs": [
    {
     "name": "stdout",
     "output_type": "stream",
     "text": [
      "\n",
      "Random Forest:\n",
      " 0.830056237428677 0.8297974234950434\n",
      "\n",
      "Confusion Matrix: \n",
      " [[12191   234]\n",
      " [ 3320  5136]]\n",
      "\n",
      "Classification Report: \n",
      "               precision    recall  f1-score   support\n",
      "\n",
      "           0       0.79      0.98      0.87     12425\n",
      "           1       0.96      0.61      0.74      8456\n",
      "\n",
      "    accuracy                           0.83     20881\n",
      "   macro avg       0.87      0.79      0.81     20881\n",
      "weighted avg       0.85      0.83      0.82     20881\n",
      "\n"
     ]
    }
   ],
   "source": [
    "RF = RandomForestClassifier(n_estimators= 1500, criterion='gini',max_depth=5,min_samples_split=4,min_samples_leaf=2,\n",
    "     min_weight_fraction_leaf=0.0,max_features='auto', max_leaf_nodes=None,min_impurity_decrease=0.0,\n",
    "     min_impurity_split=None,bootstrap=True)\n",
    "RF.fit(X_train,y_train) \n",
    "RF_PRED = RF.predict(X_test) #Confusion matrix & Classification Report\n",
    "RF_PRED_PROB = RF.predict_proba(X_test)[:,1] #ROC Curve\n",
    "print('\\nRandom Forest:\\n',RF.score(X_train, y_train),RF.score(X_test, y_test))\n",
    "print('\\nConfusion Matrix: \\n',confusion_matrix(y_test,RF_PRED))\n",
    "print('\\nClassification Report: \\n',classification_report(y_test,RF_PRED))"
   ]
  },
  {
   "cell_type": "code",
   "execution_count": 34,
   "metadata": {},
   "outputs": [],
   "source": [
    "s = pd.DataFrame({\"Features\": X.columns , \"Importance\":RF.feature_importances_}, index = None).sort_values(by = 'Importance', ascending = False).head(10)"
   ]
  },
  {
   "cell_type": "code",
   "execution_count": 35,
   "metadata": {},
   "outputs": [
    {
     "data": {
      "text/plain": [
       "8                         No_of_Visit\n",
       "6                    number_emergency\n",
       "5                   number_outpatient\n",
       "4                     num_medications\n",
       "1                    time_in_hospital\n",
       "7                    number_inpatient\n",
       "18                            insulin\n",
       "2                  num_lab_procedures\n",
       "11                          A1Cresult\n",
       "29    discharge_disposition_id_Others\n",
       "Name: Features, dtype: object"
      ]
     },
     "execution_count": 35,
     "metadata": {},
     "output_type": "execute_result"
    }
   ],
   "source": [
    "s['Features']"
   ]
  },
  {
   "cell_type": "code",
   "execution_count": 36,
   "metadata": {},
   "outputs": [
    {
     "data": {
      "image/png": "[encoded data removed]",
      "text/plain": [
       "<Figure size 1440x576 with 1 Axes>"
      ]
     },
     "metadata": {
      "needs_background": "light"
     },
     "output_type": "display_data"
    }
   ],
   "source": [
    "plt.figure(figsize =(20,8))\n",
    "sns.barplot(s['Features'], s['Importance'])\n",
    "plt.xticks(rotation = 0)\n",
    "plt.show()"
   ]
  },
  {
   "cell_type": "code",
   "execution_count": 44,
   "metadata": {},
   "outputs": [
    {
     "data": {
      "image/png": "[encoded data removed]",
      "text/plain": [
       "<Figure size 720x432 with 1 Axes>"
      ]
     },
     "metadata": {
      "needs_background": "light"
     },
     "output_type": "display_data"
    }
   ],
   "source": [
    "plt.figure(figsize =(10,6))\n",
    "sns.barplot(s['Importance'], s['Features'])\n",
    "plt.xticks(rotation = 0)\n",
    "plt.title(\"Top 10 Important Features\")\n",
    "plt.show()"
   ]
  },
  {
   "cell_type": "markdown",
   "metadata": {},
   "source": [
    "### Naive Bayes"
   ]
  },
  {
   "cell_type": "code",
   "execution_count": 40,
   "metadata": {},
   "outputs": [
    {
     "name": "stdout",
     "output_type": "stream",
     "text": [
      "\n",
      " Naive Bayes:\n",
      " 0.816099503304462 0.816675446578229\n",
      "\n",
      "Confusion Matrix: \n",
      " [[11249  1176]\n",
      " [ 2652  5804]]\n",
      "\n",
      "Classification Report: \n",
      "               precision    recall  f1-score   support\n",
      "\n",
      "           0       0.81      0.91      0.85     12425\n",
      "           1       0.83      0.69      0.75      8456\n",
      "\n",
      "    accuracy                           0.82     20881\n",
      "   macro avg       0.82      0.80      0.80     20881\n",
      "weighted avg       0.82      0.82      0.81     20881\n",
      "\n"
     ]
    }
   ],
   "source": [
    "from sklearn.naive_bayes import GaussianNB\n",
    "NB = GaussianNB()\n",
    "NB.fit(X_train,y_train) \n",
    "NB_PRED = NB.predict(X_test) #Confusion matrix & Clssification Report\n",
    "NB_PRED_PROB = NB.predict_proba(X_test)[:,1] #ROC Curve\n",
    "print('\\n Naive Bayes:\\n',NB.score(X_train, y_train),NB.score(X_test, y_test))\n",
    "print('\\nConfusion Matrix: \\n',confusion_matrix(y_test,NB_PRED))\n",
    "print('\\nClassification Report: \\n',classification_report(y_test,NB_PRED))"
   ]
  },
  {
   "cell_type": "markdown",
   "metadata": {},
   "source": [
    "### Decision Tree"
   ]
  },
  {
   "cell_type": "code",
   "execution_count": 24,
   "metadata": {},
   "outputs": [
    {
     "name": "stdout",
     "output_type": "stream",
     "text": [
      "\n",
      "Decision Tree:\n",
      " 0.9999794753909939 0.7497725204731575\n",
      "\n",
      "Confusion Matrix: \n",
      " [[9630 2795]\n",
      " [2430 6026]]\n",
      "\n",
      "Classification Report: \n",
      "               precision    recall  f1-score   support\n",
      "\n",
      "           0       0.80      0.78      0.79     12425\n",
      "           1       0.68      0.71      0.70      8456\n",
      "\n",
      "    accuracy                           0.75     20881\n",
      "   macro avg       0.74      0.74      0.74     20881\n",
      "weighted avg       0.75      0.75      0.75     20881\n",
      "\n"
     ]
    }
   ],
   "source": [
    "from sklearn.tree import DecisionTreeClassifier\n",
    "DT = DecisionTreeClassifier()\n",
    "DT.fit(X_train,y_train) \n",
    "DT_PRED = DT.predict(X_test) #Confusion matrix & Clssification Report\n",
    "DT_PRED_PROB = DT.predict_proba(X_test)[:,1] #ROC Curve\n",
    "print('\\nDecision Tree:\\n',DT.score(X_train, y_train),DT.score(X_test, y_test))\n",
    "print('\\nConfusion Matrix: \\n',confusion_matrix(y_test,DT_PRED))\n",
    "print('\\nClassification Report: \\n',classification_report(y_test,DT_PRED))"
   ]
  },
  {
   "cell_type": "markdown",
   "metadata": {},
   "source": [
    "### XGBoost"
   ]
  },
  {
   "cell_type": "code",
   "execution_count": 25,
   "metadata": {},
   "outputs": [
    {
     "name": "stdout",
     "output_type": "stream",
     "text": [
      "\n",
      "Extreme Gradient Boosting Classifier:\n",
      " 0.8431098887566192 0.8360231789665246\n",
      "\n",
      "Confusion Matrix: \n",
      " [[11976   449]\n",
      " [ 2975  5481]]\n",
      "\n",
      "Classification Report: \n",
      "               precision    recall  f1-score   support\n",
      "\n",
      "           0       0.80      0.96      0.87     12425\n",
      "           1       0.92      0.65      0.76      8456\n",
      "\n",
      "    accuracy                           0.84     20881\n",
      "   macro avg       0.86      0.81      0.82     20881\n",
      "weighted avg       0.85      0.84      0.83     20881\n",
      "\n"
     ]
    }
   ],
   "source": [
    "from xgboost import XGBClassifier\n",
    "XG = XGBClassifier(gamma= 4,learning_rate=0.1,max_depth=7)\n",
    "XG.fit(X_train,y_train) \n",
    "XG_PRED = XG.predict(X_test) #Confusion matrix & Clssification Report\n",
    "XG_PRED_PROB = XG.predict_proba(X_test)[:,1] #ROC Curve\n",
    "print('\\nExtreme Gradient Boosting Classifier:\\n',XG.score(X_train, y_train),XG.score(X_test, y_test))\n",
    "print('\\nConfusion Matrix: \\n',confusion_matrix(y_test,XG_PRED))\n",
    "print('\\nClassification Report: \\n',classification_report(y_test,XG_PRED))"
   ]
  },
  {
   "cell_type": "code",
   "execution_count": 42,
   "metadata": {},
   "outputs": [
    {
     "name": "stdout",
     "output_type": "stream",
     "text": [
      "\n",
      "Extreme Gradient Boosting Classifier:\n",
      " 0.8419194614342597 0.8362626311000431\n",
      "\n",
      "Confusion Matrix: \n",
      " [[11942   483]\n",
      " [ 2936  5520]]\n",
      "\n",
      "Classification Report: \n",
      "               precision    recall  f1-score   support\n",
      "\n",
      "           0       0.80      0.96      0.87     12425\n",
      "           1       0.92      0.65      0.76      8456\n",
      "\n",
      "    accuracy                           0.84     20881\n",
      "   macro avg       0.86      0.81      0.82     20881\n",
      "weighted avg       0.85      0.84      0.83     20881\n",
      "\n"
     ]
    }
   ],
   "source": [
    "XG = XGBClassifier(learning_rate =0.1,n_estimators=944,max_depth=6,min_child_weight=1,gamma=9,subsample=0.8,\n",
    "                   colsample_bytree=0.8, objective= 'binary:logistic', nthread=4, seed=29)\n",
    "XG.fit(X_train,y_train) \n",
    "XG_PRED = XG.predict(X_test) #Confusion matrix & Clssification Report\n",
    "XG_PRED_PROB12 = XG.predict_proba(X_test)[:,1] #ROC Curve\n",
    "print('\\nExtreme Gradient Boosting Classifier:\\n',XG.score(X_train, y_train),XG.score(X_test, y_test))\n",
    "print('\\nConfusion Matrix: \\n',confusion_matrix(y_test,XG_PRED))\n",
    "print('\\nClassification Report: \\n',classification_report(y_test,XG_PRED))"
   ]
  },
  {
   "cell_type": "code",
   "execution_count": 43,
   "metadata": {},
   "outputs": [
    {
     "name": "stdout",
     "output_type": "stream",
     "text": [
      "XGBoost:  0.8735314916937768\n"
     ]
    },
    {
     "data": {
      "image/png": "[encoded data removed]",
      "text/plain": [
       "<Figure size 576x360 with 1 Axes>"
      ]
     },
     "metadata": {
      "needs_background": "light"
     },
     "output_type": "display_data"
    }
   ],
   "source": [
    "print('XGBoost: ',roc_auc_score(y_test,XG_PRED_PROB12))\n",
    "plt.figure(figsize=(8,5))\n",
    "fpr_RF, tpr_RF, th_RF = roc_curve(y_test, XG_PRED_PROB12)\n",
    "plt.plot(fpr_RF, tpr_RF,label = 'XGBoost Tuned')\n",
    "plt.plot([0,1],'k--')\n",
    "plt.xlabel('1-Specificity')\n",
    "plt.ylabel('Sensitivity')\n",
    "plt.title('ROC Curve')\n",
    "plt.legend()\n",
    "plt.show()"
   ]
  },
  {
   "cell_type": "code",
   "execution_count": null,
   "metadata": {},
   "outputs": [],
   "source": []
  },
  {
   "cell_type": "code",
   "execution_count": null,
   "metadata": {},
   "outputs": [],
   "source": []
  },
  {
   "cell_type": "code",
   "execution_count": 26,
   "metadata": {},
   "outputs": [
    {
     "data": {
      "image/png": "[encoded data removed]",
      "text/plain": [
       "<Figure size 864x432 with 1 Axes>"
      ]
     },
     "metadata": {
      "needs_background": "light"
     },
     "output_type": "display_data"
    },
    {
     "name": "stdout",
     "output_type": "stream",
     "text": [
      "Logistic Regression:  0.8450140435803087\n",
      "Naive Bayes        :  0.8602960716046516\n",
      "Decision Tree      :  0.7438170651153847\n",
      "Random Forest      :  0.8628653662752295\n",
      "XG Boost           :  0.8736553664465506\n"
     ]
    }
   ],
   "source": [
    "from sklearn.metrics import roc_curve,roc_auc_score\n",
    "fpr_LR, tpr_LR, th_LR = roc_curve(y_test, LR_PRED_PROB)\n",
    "fpr_NB, tpr_NB, th_NB = roc_curve(y_test, NB_PRED_PROB)\n",
    "fpr_DT, tpr_DT, th_DT = roc_curve(y_test, DT_PRED_PROB)\n",
    "fpr_RF, tpr_RF, th_RF = roc_curve(y_test, RF_PRED_PROB)\n",
    "#fpr_ET, tpr_ET, th_ET = roc_curve(y_test, ET_PRED_PROB)\n",
    "#fpr_BG, tpr_BG, th_BG = roc_curve(y_test, BG_PRED_PROB)\n",
    "#fpr_ABC, tpr_ABC, th_ABC = roc_curve(y_test, ABC_PRED_PROB)\n",
    "#fpr_GB, tpr_GB, th_GB = roc_curve(y_test, GB_PRED_PROB)\n",
    "fpr_XG, tpr_XG, th_XG = roc_curve(y_test, XG_PRED_PROB)\n",
    "#fpr_rf, tpr_rf, th_rf = roc_curve(y_test, RF_PRED_PROB1)\n",
    "#fpr_xg, tpr_xg, th_xg = roc_curve(y_test, XG_PRED_PROB12)\n",
    "\n",
    "plt.figure(figsize=(12,6))\n",
    "plt.plot(fpr_LR, tpr_LR,label = 'Logistic Regression')\n",
    "plt.plot(fpr_NB, tpr_NB,label = 'Naive Bayes')\n",
    "plt.plot(fpr_DT, tpr_DT,label = 'Decision Tree')\n",
    "plt.plot(fpr_RF, tpr_RF,label = 'Random Forest')\n",
    "plt.plot(fpr_XG, tpr_XG,label = 'XG Boost')\n",
    "#plt.plot(fpr_rf, tpr_rf,label = 'Tuned Rf')\n",
    "#plt.plot(fpr_xg, tpr_xg,label = 'XG Boost Tuned')\n",
    "\n",
    "\n",
    "plt.plot([0,1],'k--')\n",
    "plt.xlabel('1-Specificity')\n",
    "plt.ylabel('Sensitivity')\n",
    "plt.title('ROC Curve')\n",
    "plt.legend()\n",
    "plt.show()\n",
    "print('Logistic Regression: ',roc_auc_score(y_test,NB_PRED_PROB))\n",
    "print('Naive Bayes        : ',roc_auc_score(y_test,RF_PRED_PROB))\n",
    "print('Decision Tree      : ',roc_auc_score(y_test,DT_PRED_PROB))\n",
    "print('Random Forest      : ',roc_auc_score(y_test,LR_PRED_PROB))\n",
    "#print('Extra Tree         : ',roc_auc_score(y_test,LR_PRED_PROB))\n",
    "#print('Bagging            : ',roc_auc_score(y_test,BG_PRED_PROB))\n",
    "#print('Adaboost           : ',roc_auc_score(y_test,ABC_PRED_PROB))\n",
    "#print('Gradient Boost     : ',roc_auc_score(y_test,GB_PRED_PROB))\n",
    "print('XG Boost           : ',roc_auc_score(y_test,XG_PRED_PROB))\n",
    "#print('RF tuned Boost     : ',roc_auc_score(y_test,RF_PRED_PROB1))\n",
    "#print('XG tuned Boost     : ',roc_auc_score(y_test,XG_PRED_PROB12))"
   ]
  },
  {
   "cell_type": "markdown",
   "metadata": {},
   "source": []
  },
  {
   "cell_type": "code",
   "execution_count": 10,
   "metadata": {},
   "outputs": [],
   "source": [
    "from sklearn.model_selection import RandomizedSearchCV\n",
    "\n",
    "#Randomized Search CV\n",
    "\n",
    "# Number of trees in extra tree\n",
    "n_estimators = [int(x) for x in np.linspace(start = 100, stop = 2000, num = 10)]\n",
    "# Number of features to consider at every split\n",
    "max_features = ['auto', 'sqrt', 'log2']\n",
    "# Maximum number of levels in tree\n",
    "max_depth = [int(x) for x in np.linspace(5, 40, num = 8)]\n",
    "# Minimum number of samples required to split a node\n",
    "min_samples_split = [2,3,4, 5, 10, 15, 100]\n",
    "# Minimum number of samples required at each leaf node\n",
    "min_samples_leaf = [1,2,3,4, 5, 10]"
   ]
  },
  {
   "cell_type": "code",
   "execution_count": 11,
   "metadata": {},
   "outputs": [],
   "source": [
    "random_grid = {'n_estimators': n_estimators,\n",
    "               'max_features': max_features,\n",
    "               'max_depth': max_depth,\n",
    "               'min_samples_split': min_samples_split,\n",
    "               'min_samples_leaf': min_samples_leaf}"
   ]
  },
  {
   "cell_type": "code",
   "execution_count": 12,
   "metadata": {},
   "outputs": [],
   "source": [
    "rf = RandomizedSearchCV(estimator = RF, param_distributions = random_grid, n_iter = 10, cv = 5, verbose=0, \n",
    "                        random_state=42, n_jobs = 1)"
   ]
  },
  {
   "cell_type": "code",
   "execution_count": 13,
   "metadata": {},
   "outputs": [
    {
     "data": {
      "text/plain": [
       "{'n_estimators': 944,\n",
       " 'min_samples_split': 100,\n",
       " 'min_samples_leaf': 4,\n",
       " 'max_features': 'sqrt',\n",
       " 'max_depth': 25}"
      ]
     },
     "execution_count": 13,
     "metadata": {},
     "output_type": "execute_result"
    }
   ],
   "source": [
    "rf.fit(X_train, y_train)\n",
    "rf.best_params_"
   ]
  },
  {
   "cell_type": "code",
   "execution_count": 14,
   "metadata": {},
   "outputs": [
    {
     "name": "stdout",
     "output_type": "stream",
     "text": [
      "\n",
      "Random Forest:\n",
      " 0.8434793317187308 0.835304822565969\n",
      "\n",
      "Confusion Matrix: \n",
      " [[12050   375]\n",
      " [ 3064  5392]]\n",
      "\n",
      "Classification Report: \n",
      "               precision    recall  f1-score   support\n",
      "\n",
      "           0       0.80      0.97      0.88     12425\n",
      "           1       0.93      0.64      0.76      8456\n",
      "\n",
      "    accuracy                           0.84     20881\n",
      "   macro avg       0.87      0.80      0.82     20881\n",
      "weighted avg       0.85      0.84      0.83     20881\n",
      "\n"
     ]
    }
   ],
   "source": [
    "RF1 = RandomForestClassifier(n_estimators= 944,min_samples_split= 100, min_samples_leaf= 4,\n",
    "                             max_features= 'sqrt',max_depth= 25)\n",
    "RF1.fit(X_train,y_train) \n",
    "RF_PRED1 = RF1.predict(X_test) #Confusion matrix & Clssification Report\n",
    "RF_PRED_PROB1 = RF1.predict_proba(X_test)[:,1] #ROC Curve\n",
    "print('\\nRandom Forest:\\n',RF1.score(X_train, y_train),RF1.score(X_test, y_test))\n",
    "print('\\nConfusion Matrix: \\n',confusion_matrix(y_test,RF_PRED1))\n",
    "print('\\nClassification Report: \\n',classification_report(y_test,RF_PRED1))"
   ]
  },
  {
   "cell_type": "code",
   "execution_count": 21,
   "metadata": {},
   "outputs": [
    {
     "name": "stdout",
     "output_type": "stream",
     "text": [
      "Random Forest:  0.8708147465683411\n"
     ]
    },
    {
     "data": {
      "image/png": "[encoded data removed]",
      "text/plain": [
       "<Figure size 576x360 with 1 Axes>"
      ]
     },
     "metadata": {
      "needs_background": "light"
     },
     "output_type": "display_data"
    }
   ],
   "source": [
    "print('Random Forest: ',roc_auc_score(y_test,RF_PRED_PROB1))\n",
    "plt.figure(figsize=(8,5))\n",
    "fpr_RF, tpr_RF, th_RF = roc_curve(y_test, RF_PRED_PROB1)\n",
    "plt.plot(fpr_RF, tpr_RF,label = 'Random Forest Tuned')\n",
    "plt.plot([0,1],'k--')\n",
    "plt.xlabel('1-Specificity')\n",
    "plt.ylabel('Sensitivity')\n",
    "plt.title('ROC Curve')\n",
    "plt.legend()\n",
    "plt.show()"
   ]
  },
  {
   "cell_type": "code",
   "execution_count": null,
   "metadata": {},
   "outputs": [],
   "source": []
  }
 ],
 "metadata": {
  "kernelspec": {
   "display_name": "Python 3 (ipykernel)",
   "language": "python",
   "name": "python3"
  },
  "language_info": {
   "codemirror_mode": {
    "name": "ipython",
    "version": 3
   },
   "file_extension": ".py",
   "mimetype": "text/x-python",
   "name": "python",
   "nbconvert_exporter": "python",
   "pygments_lexer": "ipython3",
   "version": "3.9.13"
  }
 },
 "nbformat": 4,
 "nbformat_minor": 2
}
